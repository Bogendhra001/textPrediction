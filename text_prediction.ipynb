{
  "cells": [
    {
      "cell_type": "markdown",
      "metadata": {
        "id": "view-in-github",
        "colab_type": "text"
      },
      "source": [
        "<a href=\"https://colab.research.google.com/github/Bogendhra001/textPrediction/blob/main/text_prediction.ipynb\" target=\"_parent\"><img src=\"https://colab.research.google.com/assets/colab-badge.svg\" alt=\"Open In Colab\"/></a>"
      ]
    },
    {
      "cell_type": "markdown",
      "source": [
        "Importing libraries "
      ],
      "metadata": {
        "id": "LxQjQeCS9AGn"
      }
    },
    {
      "cell_type": "code",
      "execution_count": 40,
      "metadata": {
        "id": "0wX6EiqSwb9R"
      },
      "outputs": [],
      "source": [
        "import tensorflow as tf\n",
        "from tensorflow.keras.preprocessing.text import Tokenizer\n",
        "from tensorflow.keras.layers import Embedding, LSTM, Dense\n",
        "from tensorflow.keras.models import Sequential\n",
        "from tensorflow.keras.utils import to_categorical\n",
        "from tensorflow.keras.optimizers import Adam\n",
        "import pickle\n",
        "import numpy as np\n",
        "import os"
      ]
    },
    {
      "cell_type": "markdown",
      "source": [
        "Upload your text files"
      ],
      "metadata": {
        "id": "4vWNVGwq9L4f"
      }
    },
    {
      "cell_type": "code",
      "execution_count": 41,
      "metadata": {
        "colab": {
          "base_uri": "https://localhost:8080/",
          "height": 73
        },
        "id": "9GKpTze-wkDp",
        "outputId": "b4a6811c-292b-45c3-d4e1-a36739fdac5d"
      },
      "outputs": [
        {
          "output_type": "display_data",
          "data": {
            "text/plain": [
              "<IPython.core.display.HTML object>"
            ],
            "text/html": [
              "\n",
              "     <input type=\"file\" id=\"files-34686baf-0ccd-480d-b8ff-688fdb71055c\" name=\"files[]\" multiple disabled\n",
              "        style=\"border:none\" />\n",
              "     <output id=\"result-34686baf-0ccd-480d-b8ff-688fdb71055c\">\n",
              "      Upload widget is only available when the cell has been executed in the\n",
              "      current browser session. Please rerun this cell to enable.\n",
              "      </output>\n",
              "      <script>// Copyright 2017 Google LLC\n",
              "//\n",
              "// Licensed under the Apache License, Version 2.0 (the \"License\");\n",
              "// you may not use this file except in compliance with the License.\n",
              "// You may obtain a copy of the License at\n",
              "//\n",
              "//      http://www.apache.org/licenses/LICENSE-2.0\n",
              "//\n",
              "// Unless required by applicable law or agreed to in writing, software\n",
              "// distributed under the License is distributed on an \"AS IS\" BASIS,\n",
              "// WITHOUT WARRANTIES OR CONDITIONS OF ANY KIND, either express or implied.\n",
              "// See the License for the specific language governing permissions and\n",
              "// limitations under the License.\n",
              "\n",
              "/**\n",
              " * @fileoverview Helpers for google.colab Python module.\n",
              " */\n",
              "(function(scope) {\n",
              "function span(text, styleAttributes = {}) {\n",
              "  const element = document.createElement('span');\n",
              "  element.textContent = text;\n",
              "  for (const key of Object.keys(styleAttributes)) {\n",
              "    element.style[key] = styleAttributes[key];\n",
              "  }\n",
              "  return element;\n",
              "}\n",
              "\n",
              "// Max number of bytes which will be uploaded at a time.\n",
              "const MAX_PAYLOAD_SIZE = 100 * 1024;\n",
              "\n",
              "function _uploadFiles(inputId, outputId) {\n",
              "  const steps = uploadFilesStep(inputId, outputId);\n",
              "  const outputElement = document.getElementById(outputId);\n",
              "  // Cache steps on the outputElement to make it available for the next call\n",
              "  // to uploadFilesContinue from Python.\n",
              "  outputElement.steps = steps;\n",
              "\n",
              "  return _uploadFilesContinue(outputId);\n",
              "}\n",
              "\n",
              "// This is roughly an async generator (not supported in the browser yet),\n",
              "// where there are multiple asynchronous steps and the Python side is going\n",
              "// to poll for completion of each step.\n",
              "// This uses a Promise to block the python side on completion of each step,\n",
              "// then passes the result of the previous step as the input to the next step.\n",
              "function _uploadFilesContinue(outputId) {\n",
              "  const outputElement = document.getElementById(outputId);\n",
              "  const steps = outputElement.steps;\n",
              "\n",
              "  const next = steps.next(outputElement.lastPromiseValue);\n",
              "  return Promise.resolve(next.value.promise).then((value) => {\n",
              "    // Cache the last promise value to make it available to the next\n",
              "    // step of the generator.\n",
              "    outputElement.lastPromiseValue = value;\n",
              "    return next.value.response;\n",
              "  });\n",
              "}\n",
              "\n",
              "/**\n",
              " * Generator function which is called between each async step of the upload\n",
              " * process.\n",
              " * @param {string} inputId Element ID of the input file picker element.\n",
              " * @param {string} outputId Element ID of the output display.\n",
              " * @return {!Iterable<!Object>} Iterable of next steps.\n",
              " */\n",
              "function* uploadFilesStep(inputId, outputId) {\n",
              "  const inputElement = document.getElementById(inputId);\n",
              "  inputElement.disabled = false;\n",
              "\n",
              "  const outputElement = document.getElementById(outputId);\n",
              "  outputElement.innerHTML = '';\n",
              "\n",
              "  const pickedPromise = new Promise((resolve) => {\n",
              "    inputElement.addEventListener('change', (e) => {\n",
              "      resolve(e.target.files);\n",
              "    });\n",
              "  });\n",
              "\n",
              "  const cancel = document.createElement('button');\n",
              "  inputElement.parentElement.appendChild(cancel);\n",
              "  cancel.textContent = 'Cancel upload';\n",
              "  const cancelPromise = new Promise((resolve) => {\n",
              "    cancel.onclick = () => {\n",
              "      resolve(null);\n",
              "    };\n",
              "  });\n",
              "\n",
              "  // Wait for the user to pick the files.\n",
              "  const files = yield {\n",
              "    promise: Promise.race([pickedPromise, cancelPromise]),\n",
              "    response: {\n",
              "      action: 'starting',\n",
              "    }\n",
              "  };\n",
              "\n",
              "  cancel.remove();\n",
              "\n",
              "  // Disable the input element since further picks are not allowed.\n",
              "  inputElement.disabled = true;\n",
              "\n",
              "  if (!files) {\n",
              "    return {\n",
              "      response: {\n",
              "        action: 'complete',\n",
              "      }\n",
              "    };\n",
              "  }\n",
              "\n",
              "  for (const file of files) {\n",
              "    const li = document.createElement('li');\n",
              "    li.append(span(file.name, {fontWeight: 'bold'}));\n",
              "    li.append(span(\n",
              "        `(${file.type || 'n/a'}) - ${file.size} bytes, ` +\n",
              "        `last modified: ${\n",
              "            file.lastModifiedDate ? file.lastModifiedDate.toLocaleDateString() :\n",
              "                                    'n/a'} - `));\n",
              "    const percent = span('0% done');\n",
              "    li.appendChild(percent);\n",
              "\n",
              "    outputElement.appendChild(li);\n",
              "\n",
              "    const fileDataPromise = new Promise((resolve) => {\n",
              "      const reader = new FileReader();\n",
              "      reader.onload = (e) => {\n",
              "        resolve(e.target.result);\n",
              "      };\n",
              "      reader.readAsArrayBuffer(file);\n",
              "    });\n",
              "    // Wait for the data to be ready.\n",
              "    let fileData = yield {\n",
              "      promise: fileDataPromise,\n",
              "      response: {\n",
              "        action: 'continue',\n",
              "      }\n",
              "    };\n",
              "\n",
              "    // Use a chunked sending to avoid message size limits. See b/62115660.\n",
              "    let position = 0;\n",
              "    do {\n",
              "      const length = Math.min(fileData.byteLength - position, MAX_PAYLOAD_SIZE);\n",
              "      const chunk = new Uint8Array(fileData, position, length);\n",
              "      position += length;\n",
              "\n",
              "      const base64 = btoa(String.fromCharCode.apply(null, chunk));\n",
              "      yield {\n",
              "        response: {\n",
              "          action: 'append',\n",
              "          file: file.name,\n",
              "          data: base64,\n",
              "        },\n",
              "      };\n",
              "\n",
              "      let percentDone = fileData.byteLength === 0 ?\n",
              "          100 :\n",
              "          Math.round((position / fileData.byteLength) * 100);\n",
              "      percent.textContent = `${percentDone}% done`;\n",
              "\n",
              "    } while (position < fileData.byteLength);\n",
              "  }\n",
              "\n",
              "  // All done.\n",
              "  yield {\n",
              "    response: {\n",
              "      action: 'complete',\n",
              "    }\n",
              "  };\n",
              "}\n",
              "\n",
              "scope.google = scope.google || {};\n",
              "scope.google.colab = scope.google.colab || {};\n",
              "scope.google.colab._files = {\n",
              "  _uploadFiles,\n",
              "  _uploadFilesContinue,\n",
              "};\n",
              "})(self);\n",
              "</script> "
            ]
          },
          "metadata": {}
        },
        {
          "output_type": "stream",
          "name": "stdout",
          "text": [
            "Saving dataset.txt to dataset (2).txt\n"
          ]
        }
      ],
      "source": [
        "from google.colab import files\n",
        "uploaded = files.upload()"
      ]
    },
    {
      "cell_type": "markdown",
      "source": [
        " Open and pre-process the data"
      ],
      "metadata": {
        "id": "Jnh704Nl9WuQ"
      }
    },
    {
      "cell_type": "code",
      "execution_count": 42,
      "metadata": {
        "colab": {
          "base_uri": "https://localhost:8080/",
          "height": 70
        },
        "id": "4CsjRQIvw4Dn",
        "outputId": "eaf38fbc-9e54-48ee-c07c-a84be7e166c1"
      },
      "outputs": [
        {
          "output_type": "execute_result",
          "data": {
            "text/plain": [
              "'The Project Gutenberg EBook of Metamorphosis, by Franz Kafka Translated by David Wyllie. This eBook is for the use of anyone anywhere at no cost and with almost no restrictions whatsoever. You may copy it, give it away or re-use it under the terms of the Project Gutenberg License included with this eBook or online at www.gutenberg.org ** This is a COPYRIGHTED Project Gutenberg eBook, Details Below ** ** Please follow the copyright guidelines in this file. ** Title: Metamorphosis Author: Franz Ka'"
            ],
            "application/vnd.google.colaboratory.intrinsic+json": {
              "type": "string"
            }
          },
          "metadata": {},
          "execution_count": 42
        }
      ],
      "source": [
        "file = open(\"dataset.txt\", \"r\", encoding = \"utf8\")\n",
        "\n",
        "\n",
        "lines = []\n",
        "for i in file:\n",
        "    lines.append(i)\n",
        "\n",
        "data = \"\"\n",
        "for i in lines:\n",
        "  data = ' '. join(lines) \n",
        "\n",
        "data = data.replace('\\n', '').replace('\\r', '').replace('\\ufeff', '').replace('“','').replace('”','')  #new line, carriage return, unicode character --> replace by space\n",
        "\n",
        "data = data.split()\n",
        "data = ' '.join(data)\n",
        "data[:500]"
      ]
    },
    {
      "cell_type": "code",
      "execution_count": 43,
      "metadata": {
        "colab": {
          "base_uri": "https://localhost:8080/"
        },
        "id": "ROxMe72Iw-ag",
        "outputId": "0ab1dc15-abde-4496-987e-aa2c3e20c20a"
      },
      "outputs": [
        {
          "output_type": "execute_result",
          "data": {
            "text/plain": [
              "138048"
            ]
          },
          "metadata": {},
          "execution_count": 43
        }
      ],
      "source": [
        "len(data)"
      ]
    },
    {
      "cell_type": "markdown",
      "source": [
        "Tokenization"
      ],
      "metadata": {
        "id": "-WbNwU0r9dXQ"
      }
    },
    {
      "cell_type": "code",
      "execution_count": 44,
      "metadata": {
        "colab": {
          "base_uri": "https://localhost:8080/"
        },
        "id": "3oUFSBNExCEA",
        "outputId": "29442263-8bb6-487d-aeca-c583ef20742c"
      },
      "outputs": [
        {
          "output_type": "execute_result",
          "data": {
            "text/plain": [
              "[1, 45, 43, 283, 5, 511, 55, 687, 688, 847, 55, 593, 594, 27, 283]"
            ]
          },
          "metadata": {},
          "execution_count": 44
        }
      ],
      "source": [
        "tokenizer = Tokenizer()\n",
        "tokenizer.fit_on_texts([data])\n",
        "\n",
        "pickle.dump(tokenizer, open('token.pkl', 'wb'))\n",
        "\n",
        "sequence_data = tokenizer.texts_to_sequences([data])[0]\n",
        "sequence_data[:15]"
      ]
    },
    {
      "cell_type": "code",
      "execution_count": 45,
      "metadata": {
        "colab": {
          "base_uri": "https://localhost:8080/"
        },
        "id": "bnjsvxZvxEho",
        "outputId": "957ad5f7-cc33-41dc-964d-1f21deafefca"
      },
      "outputs": [
        {
          "output_type": "execute_result",
          "data": {
            "text/plain": [
              "25309"
            ]
          },
          "metadata": {},
          "execution_count": 45
        }
      ],
      "source": [
        "len(sequence_data)"
      ]
    },
    {
      "cell_type": "code",
      "execution_count": 46,
      "metadata": {
        "colab": {
          "base_uri": "https://localhost:8080/"
        },
        "id": "ERJeq_0RxG2_",
        "outputId": "cc98b963-bcfd-4384-d7ce-a2f09af89bb2"
      },
      "outputs": [
        {
          "output_type": "stream",
          "name": "stdout",
          "text": [
            "3068\n"
          ]
        }
      ],
      "source": [
        "vocab_size = len(tokenizer.word_index) + 1\n",
        "print(vocab_size)\n"
      ]
    },
    {
      "cell_type": "code",
      "execution_count": 47,
      "metadata": {
        "colab": {
          "base_uri": "https://localhost:8080/"
        },
        "id": "_xbxrC9_xJHe",
        "outputId": "41fe8824-92c6-4c72-8b57-f371a4853822"
      },
      "outputs": [
        {
          "output_type": "stream",
          "name": "stdout",
          "text": [
            "The Length of sequences are:  25306\n"
          ]
        },
        {
          "output_type": "execute_result",
          "data": {
            "text/plain": [
              "array([[  1,  45,  43, 283],\n",
              "       [ 45,  43, 283,   5],\n",
              "       [ 43, 283,   5, 511],\n",
              "       [283,   5, 511,  55],\n",
              "       [  5, 511,  55, 687],\n",
              "       [511,  55, 687, 688],\n",
              "       [ 55, 687, 688, 847],\n",
              "       [687, 688, 847,  55],\n",
              "       [688, 847,  55, 593],\n",
              "       [847,  55, 593, 594]])"
            ]
          },
          "metadata": {},
          "execution_count": 47
        }
      ],
      "source": [
        "sequences = []\n",
        "\n",
        "for i in range(3, len(sequence_data)):\n",
        "    words = sequence_data[i-3:i+1]\n",
        "    sequences.append(words)\n",
        "    \n",
        "print(\"The Length of sequences are: \", len(sequences))\n",
        "sequences = np.array(sequences)\n",
        "sequences[:10]"
      ]
    },
    {
      "cell_type": "code",
      "execution_count": 48,
      "metadata": {
        "id": "c8MvqAQMxMkO"
      },
      "outputs": [],
      "source": [
        "X = []\n",
        "y = []\n",
        "\n",
        "for i in sequences:\n",
        "    X.append(i[0:3])\n",
        "    y.append(i[3])\n",
        "    \n",
        "X = np.array(X)\n",
        "y = np.array(y)"
      ]
    },
    {
      "cell_type": "code",
      "execution_count": 49,
      "metadata": {
        "colab": {
          "base_uri": "https://localhost:8080/"
        },
        "id": "SwiLi-6cxPav",
        "outputId": "e3178305-50b9-490c-f229-00da870afcb5"
      },
      "outputs": [
        {
          "output_type": "stream",
          "name": "stdout",
          "text": [
            "Data:  [[  1  45  43]\n",
            " [ 45  43 283]\n",
            " [ 43 283   5]\n",
            " [283   5 511]\n",
            " [  5 511  55]\n",
            " [511  55 687]\n",
            " [ 55 687 688]\n",
            " [687 688 847]\n",
            " [688 847  55]\n",
            " [847  55 593]]\n",
            "Response:  [283   5 511  55 687 688 847  55 593 594]\n"
          ]
        }
      ],
      "source": [
        "print(\"Data: \", X[:10])\n",
        "print(\"Response: \", y[:10])"
      ]
    },
    {
      "cell_type": "code",
      "execution_count": 50,
      "metadata": {
        "colab": {
          "base_uri": "https://localhost:8080/"
        },
        "id": "LfbGjH5qxRnH",
        "outputId": "21b2e6fe-2384-4175-95dd-c055c3fd9b38"
      },
      "outputs": [
        {
          "output_type": "execute_result",
          "data": {
            "text/plain": [
              "array([[0., 0., 0., ..., 0., 0., 0.],\n",
              "       [0., 0., 0., ..., 0., 0., 0.],\n",
              "       [0., 0., 0., ..., 0., 0., 0.],\n",
              "       [0., 0., 0., ..., 0., 0., 0.],\n",
              "       [0., 0., 0., ..., 0., 0., 0.]], dtype=float32)"
            ]
          },
          "metadata": {},
          "execution_count": 50
        }
      ],
      "source": [
        "y = to_categorical(y, num_classes=vocab_size)\n",
        "y[:5]"
      ]
    },
    {
      "cell_type": "markdown",
      "source": [
        "Creating a model"
      ],
      "metadata": {
        "id": "EiMEs7s49jN-"
      }
    },
    {
      "cell_type": "code",
      "execution_count": 51,
      "metadata": {
        "id": "gbh_3vAcxTs1"
      },
      "outputs": [],
      "source": [
        "model = Sequential()\n",
        "model.add(Embedding(vocab_size, 10, input_length=3))\n",
        "model.add(LSTM(1000, return_sequences=True))\n",
        "model.add(LSTM(1000))\n",
        "model.add(Dense(1000, activation=\"relu\"))\n",
        "model.add(Dense(vocab_size, activation=\"softmax\"))"
      ]
    },
    {
      "cell_type": "code",
      "execution_count": 52,
      "metadata": {
        "colab": {
          "base_uri": "https://localhost:8080/"
        },
        "id": "RT9jxGdOxWY_",
        "outputId": "4b756bd2-cff0-4b63-d1e1-3c3e9bb79baf"
      },
      "outputs": [
        {
          "output_type": "stream",
          "name": "stdout",
          "text": [
            "Model: \"sequential_2\"\n",
            "_________________________________________________________________\n",
            " Layer (type)                Output Shape              Param #   \n",
            "=================================================================\n",
            " embedding_2 (Embedding)     (None, 3, 10)             30680     \n",
            "                                                                 \n",
            " lstm_4 (LSTM)               (None, 3, 1000)           4044000   \n",
            "                                                                 \n",
            " lstm_5 (LSTM)               (None, 1000)              8004000   \n",
            "                                                                 \n",
            " dense_4 (Dense)             (None, 1000)              1001000   \n",
            "                                                                 \n",
            " dense_5 (Dense)             (None, 3068)              3071068   \n",
            "                                                                 \n",
            "=================================================================\n",
            "Total params: 16,150,748\n",
            "Trainable params: 16,150,748\n",
            "Non-trainable params: 0\n",
            "_________________________________________________________________\n"
          ]
        }
      ],
      "source": [
        "model.summary()"
      ]
    },
    {
      "cell_type": "markdown",
      "source": [
        "Plot the model"
      ],
      "metadata": {
        "id": "cqKlG7BA9pom"
      }
    },
    {
      "cell_type": "code",
      "execution_count": 53,
      "metadata": {
        "colab": {
          "base_uri": "https://localhost:8080/",
          "height": 564
        },
        "id": "GmOONOeYxZR-",
        "outputId": "78e42968-ce2f-418f-9994-fbdb7ca86f77"
      },
      "outputs": [
        {
          "output_type": "execute_result",
          "data": {
            "image/png": "[encoded data removed]",
            "text/plain": [
              "<IPython.core.display.Image object>"
            ]
          },
          "metadata": {},
          "execution_count": 53
        }
      ],
      "source": [
        "from tensorflow import keras\n",
        "from keras.utils.vis_utils import plot_model\n",
        "\n",
        "keras.utils.plot_model(model, to_file='plot.png', show_layer_names=True)"
      ]
    },
    {
      "cell_type": "markdown",
      "source": [
        "Training the model"
      ],
      "metadata": {
        "id": "77Wb3q4Z9u-M"
      }
    },
    {
      "cell_type": "code",
      "execution_count": 54,
      "metadata": {
        "colab": {
          "base_uri": "https://localhost:8080/"
        },
        "id": "_B2h2XQDxbpe",
        "outputId": "23d5e35a-08ce-40d1-e358-71e52ef4258c"
      },
      "outputs": [
        {
          "output_type": "stream",
          "name": "stdout",
          "text": [
            "Epoch 1/100\n",
            "396/396 [==============================] - ETA: 0s - loss: 6.4450 - accuracy: 0.0507\n",
            "Epoch 1: loss improved from inf to 6.44503, saving model to next_words.h5\n",
            "396/396 [==============================] - 14s 26ms/step - loss: 6.4450 - accuracy: 0.0507\n",
            "Epoch 2/100\n",
            "396/396 [==============================] - ETA: 0s - loss: 6.0403 - accuracy: 0.0572\n",
            "Epoch 2: loss improved from 6.44503 to 6.04026, saving model to next_words.h5\n",
            "396/396 [==============================] - 6s 15ms/step - loss: 6.0403 - accuracy: 0.0572\n",
            "Epoch 3/100\n",
            "394/396 [============================>.] - ETA: 0s - loss: 5.7316 - accuracy: 0.0751\n",
            "Epoch 3: loss improved from 6.04026 to 5.73187, saving model to next_words.h5\n",
            "396/396 [==============================] - 6s 16ms/step - loss: 5.7319 - accuracy: 0.0751\n",
            "Epoch 4/100\n",
            "396/396 [==============================] - ETA: 0s - loss: 5.3773 - accuracy: 0.1044\n",
            "Epoch 4: loss improved from 5.73187 to 5.37728, saving model to next_words.h5\n",
            "396/396 [==============================] - 7s 17ms/step - loss: 5.3773 - accuracy: 0.1044\n",
            "Epoch 5/100\n",
            "396/396 [==============================] - ETA: 0s - loss: 5.0668 - accuracy: 0.1237\n",
            "Epoch 5: loss improved from 5.37728 to 5.06679, saving model to next_words.h5\n",
            "396/396 [==============================] - 6s 14ms/step - loss: 5.0668 - accuracy: 0.1237\n",
            "Epoch 6/100\n",
            "395/396 [============================>.] - ETA: 0s - loss: 4.8224 - accuracy: 0.1352\n",
            "Epoch 6: loss improved from 5.06679 to 4.82242, saving model to next_words.h5\n",
            "396/396 [==============================] - 6s 15ms/step - loss: 4.8224 - accuracy: 0.1352\n",
            "Epoch 7/100\n",
            "396/396 [==============================] - ETA: 0s - loss: 4.6152 - accuracy: 0.1432\n",
            "Epoch 7: loss improved from 4.82242 to 4.61518, saving model to next_words.h5\n",
            "396/396 [==============================] - 6s 15ms/step - loss: 4.6152 - accuracy: 0.1432\n",
            "Epoch 8/100\n",
            "394/396 [============================>.] - ETA: 0s - loss: 4.4140 - accuracy: 0.1528\n",
            "Epoch 8: loss improved from 4.61518 to 4.41308, saving model to next_words.h5\n",
            "396/396 [==============================] - 6s 15ms/step - loss: 4.4131 - accuracy: 0.1530\n",
            "Epoch 9/100\n",
            "393/396 [============================>.] - ETA: 0s - loss: 4.2050 - accuracy: 0.1627\n",
            "Epoch 9: loss improved from 4.41308 to 4.20511, saving model to next_words.h5\n",
            "396/396 [==============================] - 6s 15ms/step - loss: 4.2051 - accuracy: 0.1626\n",
            "Epoch 10/100\n",
            "396/396 [==============================] - ETA: 0s - loss: 3.9833 - accuracy: 0.1754\n",
            "Epoch 10: loss improved from 4.20511 to 3.98329, saving model to next_words.h5\n",
            "396/396 [==============================] - 6s 16ms/step - loss: 3.9833 - accuracy: 0.1754\n",
            "Epoch 11/100\n",
            "394/396 [============================>.] - ETA: 0s - loss: 3.7442 - accuracy: 0.1929\n",
            "Epoch 11: loss improved from 3.98329 to 3.74571, saving model to next_words.h5\n",
            "396/396 [==============================] - 6s 15ms/step - loss: 3.7457 - accuracy: 0.1926\n",
            "Epoch 12/100\n",
            "395/396 [============================>.] - ETA: 0s - loss: 3.4942 - accuracy: 0.2203\n",
            "Epoch 12: loss improved from 3.74571 to 3.49415, saving model to next_words.h5\n",
            "396/396 [==============================] - 6s 15ms/step - loss: 3.4942 - accuracy: 0.2202\n",
            "Epoch 13/100\n",
            "396/396 [==============================] - ETA: 0s - loss: 3.2399 - accuracy: 0.2510\n",
            "Epoch 13: loss improved from 3.49415 to 3.23993, saving model to next_words.h5\n",
            "396/396 [==============================] - 6s 15ms/step - loss: 3.2399 - accuracy: 0.2510\n",
            "Epoch 14/100\n",
            "396/396 [==============================] - ETA: 0s - loss: 2.9908 - accuracy: 0.2884\n",
            "Epoch 14: loss improved from 3.23993 to 2.99084, saving model to next_words.h5\n",
            "396/396 [==============================] - 6s 15ms/step - loss: 2.9908 - accuracy: 0.2884\n",
            "Epoch 15/100\n",
            "396/396 [==============================] - ETA: 0s - loss: 2.7523 - accuracy: 0.3317\n",
            "Epoch 15: loss improved from 2.99084 to 2.75234, saving model to next_words.h5\n",
            "396/396 [==============================] - 6s 15ms/step - loss: 2.7523 - accuracy: 0.3317\n",
            "Epoch 16/100\n",
            "396/396 [==============================] - ETA: 0s - loss: 2.5311 - accuracy: 0.3651\n",
            "Epoch 16: loss improved from 2.75234 to 2.53105, saving model to next_words.h5\n",
            "396/396 [==============================] - 6s 15ms/step - loss: 2.5311 - accuracy: 0.3651\n",
            "Epoch 17/100\n",
            "396/396 [==============================] - ETA: 0s - loss: 2.3267 - accuracy: 0.4080\n",
            "Epoch 17: loss improved from 2.53105 to 2.32672, saving model to next_words.h5\n",
            "396/396 [==============================] - 6s 15ms/step - loss: 2.3267 - accuracy: 0.4080\n",
            "Epoch 18/100\n",
            "393/396 [============================>.] - ETA: 0s - loss: 2.1157 - accuracy: 0.4475\n",
            "Epoch 18: loss improved from 2.32672 to 2.11825, saving model to next_words.h5\n",
            "396/396 [==============================] - 6s 15ms/step - loss: 2.1182 - accuracy: 0.4469\n",
            "Epoch 19/100\n",
            "396/396 [==============================] - ETA: 0s - loss: 1.9350 - accuracy: 0.4846\n",
            "Epoch 19: loss improved from 2.11825 to 1.93503, saving model to next_words.h5\n",
            "396/396 [==============================] - 6s 15ms/step - loss: 1.9350 - accuracy: 0.4846\n",
            "Epoch 20/100\n",
            "394/396 [============================>.] - ETA: 0s - loss: 1.7528 - accuracy: 0.5253\n",
            "Epoch 20: loss improved from 1.93503 to 1.75404, saving model to next_words.h5\n",
            "396/396 [==============================] - 6s 14ms/step - loss: 1.7540 - accuracy: 0.5250\n",
            "Epoch 21/100\n",
            "395/396 [============================>.] - ETA: 0s - loss: 1.5981 - accuracy: 0.5633\n",
            "Epoch 21: loss improved from 1.75404 to 1.59824, saving model to next_words.h5\n",
            "396/396 [==============================] - 6s 15ms/step - loss: 1.5982 - accuracy: 0.5632\n",
            "Epoch 22/100\n",
            "396/396 [==============================] - ETA: 0s - loss: 1.4393 - accuracy: 0.6020\n",
            "Epoch 22: loss improved from 1.59824 to 1.43931, saving model to next_words.h5\n",
            "396/396 [==============================] - 6s 14ms/step - loss: 1.4393 - accuracy: 0.6020\n",
            "Epoch 23/100\n",
            "394/396 [============================>.] - ETA: 0s - loss: 1.2869 - accuracy: 0.6407\n",
            "Epoch 23: loss improved from 1.43931 to 1.28710, saving model to next_words.h5\n",
            "396/396 [==============================] - 6s 15ms/step - loss: 1.2871 - accuracy: 0.6407\n",
            "Epoch 24/100\n",
            "394/396 [============================>.] - ETA: 0s - loss: 1.1484 - accuracy: 0.6757\n",
            "Epoch 24: loss improved from 1.28710 to 1.14907, saving model to next_words.h5\n",
            "396/396 [==============================] - 6s 14ms/step - loss: 1.1491 - accuracy: 0.6757\n",
            "Epoch 25/100\n",
            "395/396 [============================>.] - ETA: 0s - loss: 1.0295 - accuracy: 0.7081\n",
            "Epoch 25: loss improved from 1.14907 to 1.02962, saving model to next_words.h5\n",
            "396/396 [==============================] - 6s 15ms/step - loss: 1.0296 - accuracy: 0.7081\n",
            "Epoch 26/100\n",
            "396/396 [==============================] - ETA: 0s - loss: 0.9132 - accuracy: 0.7405\n",
            "Epoch 26: loss improved from 1.02962 to 0.91317, saving model to next_words.h5\n",
            "396/396 [==============================] - 6s 15ms/step - loss: 0.9132 - accuracy: 0.7405\n",
            "Epoch 27/100\n",
            "395/396 [============================>.] - ETA: 0s - loss: 0.8242 - accuracy: 0.7666\n",
            "Epoch 27: loss improved from 0.91317 to 0.82386, saving model to next_words.h5\n",
            "396/396 [==============================] - 6s 15ms/step - loss: 0.8239 - accuracy: 0.7667\n",
            "Epoch 28/100\n",
            "393/396 [============================>.] - ETA: 0s - loss: 0.7382 - accuracy: 0.7921\n",
            "Epoch 28: loss improved from 0.82386 to 0.73972, saving model to next_words.h5\n",
            "396/396 [==============================] - 6s 15ms/step - loss: 0.7397 - accuracy: 0.7919\n",
            "Epoch 29/100\n",
            "396/396 [==============================] - ETA: 0s - loss: 0.6641 - accuracy: 0.8142\n",
            "Epoch 29: loss improved from 0.73972 to 0.66412, saving model to next_words.h5\n",
            "396/396 [==============================] - 6s 15ms/step - loss: 0.6641 - accuracy: 0.8142\n",
            "Epoch 30/100\n",
            "393/396 [============================>.] - ETA: 0s - loss: 0.6080 - accuracy: 0.8288\n",
            "Epoch 30: loss improved from 0.66412 to 0.60899, saving model to next_words.h5\n",
            "396/396 [==============================] - 6s 15ms/step - loss: 0.6090 - accuracy: 0.8285\n",
            "Epoch 31/100\n",
            "396/396 [==============================] - ETA: 0s - loss: 0.5684 - accuracy: 0.8394\n",
            "Epoch 31: loss improved from 0.60899 to 0.56839, saving model to next_words.h5\n",
            "396/396 [==============================] - 6s 15ms/step - loss: 0.5684 - accuracy: 0.8394\n",
            "Epoch 32/100\n",
            "393/396 [============================>.] - ETA: 0s - loss: 0.5252 - accuracy: 0.8517\n",
            "Epoch 32: loss improved from 0.56839 to 0.52748, saving model to next_words.h5\n",
            "396/396 [==============================] - 6s 15ms/step - loss: 0.5275 - accuracy: 0.8513\n",
            "Epoch 33/100\n",
            "393/396 [============================>.] - ETA: 0s - loss: 0.5119 - accuracy: 0.8533\n",
            "Epoch 33: loss improved from 0.52748 to 0.51255, saving model to next_words.h5\n",
            "396/396 [==============================] - 6s 15ms/step - loss: 0.5125 - accuracy: 0.8532\n",
            "Epoch 34/100\n",
            "393/396 [============================>.] - ETA: 0s - loss: 0.4791 - accuracy: 0.8643\n",
            "Epoch 34: loss improved from 0.51255 to 0.47982, saving model to next_words.h5\n",
            "396/396 [==============================] - 6s 15ms/step - loss: 0.4798 - accuracy: 0.8641\n",
            "Epoch 35/100\n",
            "396/396 [==============================] - ETA: 0s - loss: 0.4562 - accuracy: 0.8672\n",
            "Epoch 35: loss improved from 0.47982 to 0.45624, saving model to next_words.h5\n",
            "396/396 [==============================] - 6s 15ms/step - loss: 0.4562 - accuracy: 0.8672\n",
            "Epoch 36/100\n",
            "395/396 [============================>.] - ETA: 0s - loss: 0.4405 - accuracy: 0.8710\n",
            "Epoch 36: loss improved from 0.45624 to 0.44051, saving model to next_words.h5\n",
            "396/396 [==============================] - 6s 15ms/step - loss: 0.4405 - accuracy: 0.8710\n",
            "Epoch 37/100\n",
            "393/396 [============================>.] - ETA: 0s - loss: 0.4409 - accuracy: 0.8696\n",
            "Epoch 37: loss did not improve from 0.44051\n",
            "396/396 [==============================] - 5s 13ms/step - loss: 0.4422 - accuracy: 0.8695\n",
            "Epoch 38/100\n",
            "396/396 [==============================] - ETA: 0s - loss: 0.4178 - accuracy: 0.8735\n",
            "Epoch 38: loss improved from 0.44051 to 0.41782, saving model to next_words.h5\n",
            "396/396 [==============================] - 6s 15ms/step - loss: 0.4178 - accuracy: 0.8735\n",
            "Epoch 39/100\n",
            "393/396 [============================>.] - ETA: 0s - loss: 0.4181 - accuracy: 0.8725\n",
            "Epoch 39: loss did not improve from 0.41782\n",
            "396/396 [==============================] - 5s 13ms/step - loss: 0.4194 - accuracy: 0.8720\n",
            "Epoch 40/100\n",
            "396/396 [==============================] - ETA: 0s - loss: 0.4100 - accuracy: 0.8721\n",
            "Epoch 40: loss improved from 0.41782 to 0.41003, saving model to next_words.h5\n",
            "396/396 [==============================] - 6s 15ms/step - loss: 0.4100 - accuracy: 0.8721\n",
            "Epoch 41/100\n",
            "393/396 [============================>.] - ETA: 0s - loss: 0.3936 - accuracy: 0.8759\n",
            "Epoch 41: loss improved from 0.41003 to 0.39435, saving model to next_words.h5\n",
            "396/396 [==============================] - 6s 15ms/step - loss: 0.3943 - accuracy: 0.8756\n",
            "Epoch 42/100\n",
            "396/396 [==============================] - ETA: 0s - loss: 0.3829 - accuracy: 0.8776\n",
            "Epoch 42: loss improved from 0.39435 to 0.38293, saving model to next_words.h5\n",
            "396/396 [==============================] - 6s 15ms/step - loss: 0.3829 - accuracy: 0.8776\n",
            "Epoch 43/100\n",
            "394/396 [============================>.] - ETA: 0s - loss: 0.3641 - accuracy: 0.8805\n",
            "Epoch 43: loss improved from 0.38293 to 0.36445, saving model to next_words.h5\n",
            "396/396 [==============================] - 6s 15ms/step - loss: 0.3644 - accuracy: 0.8802\n",
            "Epoch 44/100\n",
            "394/396 [============================>.] - ETA: 0s - loss: 0.3717 - accuracy: 0.8781\n",
            "Epoch 44: loss did not improve from 0.36445\n",
            "396/396 [==============================] - 5s 14ms/step - loss: 0.3720 - accuracy: 0.8780\n",
            "Epoch 45/100\n",
            "393/396 [============================>.] - ETA: 0s - loss: 0.3618 - accuracy: 0.8806\n",
            "Epoch 45: loss improved from 0.36445 to 0.36242, saving model to next_words.h5\n",
            "396/396 [==============================] - 6s 15ms/step - loss: 0.3624 - accuracy: 0.8805\n",
            "Epoch 46/100\n",
            "396/396 [==============================] - ETA: 0s - loss: 0.3586 - accuracy: 0.8793\n",
            "Epoch 46: loss improved from 0.36242 to 0.35862, saving model to next_words.h5\n",
            "396/396 [==============================] - 6s 16ms/step - loss: 0.3586 - accuracy: 0.8793\n",
            "Epoch 47/100\n",
            "396/396 [==============================] - ETA: 0s - loss: 0.3557 - accuracy: 0.8786\n",
            "Epoch 47: loss improved from 0.35862 to 0.35573, saving model to next_words.h5\n",
            "396/396 [==============================] - 6s 15ms/step - loss: 0.3557 - accuracy: 0.8786\n",
            "Epoch 48/100\n",
            "393/396 [============================>.] - ETA: 0s - loss: 0.3424 - accuracy: 0.8823\n",
            "Epoch 48: loss improved from 0.35573 to 0.34237, saving model to next_words.h5\n",
            "396/396 [==============================] - 6s 16ms/step - loss: 0.3424 - accuracy: 0.8824\n",
            "Epoch 49/100\n",
            "396/396 [==============================] - ETA: 0s - loss: 0.3355 - accuracy: 0.8826\n",
            "Epoch 49: loss improved from 0.34237 to 0.33550, saving model to next_words.h5\n",
            "396/396 [==============================] - 6s 15ms/step - loss: 0.3355 - accuracy: 0.8826\n",
            "Epoch 50/100\n",
            "395/396 [============================>.] - ETA: 0s - loss: 0.3319 - accuracy: 0.8814\n",
            "Epoch 50: loss improved from 0.33550 to 0.33186, saving model to next_words.h5\n",
            "396/396 [==============================] - 6s 15ms/step - loss: 0.3319 - accuracy: 0.8814\n",
            "Epoch 51/100\n",
            "393/396 [============================>.] - ETA: 0s - loss: 0.3342 - accuracy: 0.8820\n",
            "Epoch 51: loss did not improve from 0.33186\n",
            "396/396 [==============================] - 5s 13ms/step - loss: 0.3350 - accuracy: 0.8817\n",
            "Epoch 52/100\n",
            "393/396 [============================>.] - ETA: 0s - loss: 0.3392 - accuracy: 0.8783\n",
            "Epoch 52: loss did not improve from 0.33186\n",
            "396/396 [==============================] - 5s 14ms/step - loss: 0.3394 - accuracy: 0.8781\n",
            "Epoch 53/100\n",
            "396/396 [==============================] - ETA: 0s - loss: 0.3316 - accuracy: 0.8804\n",
            "Epoch 53: loss improved from 0.33186 to 0.33165, saving model to next_words.h5\n",
            "396/396 [==============================] - 6s 15ms/step - loss: 0.3316 - accuracy: 0.8804\n",
            "Epoch 54/100\n",
            "396/396 [==============================] - ETA: 0s - loss: 0.3233 - accuracy: 0.8813\n",
            "Epoch 54: loss improved from 0.33165 to 0.32326, saving model to next_words.h5\n",
            "396/396 [==============================] - 6s 16ms/step - loss: 0.3233 - accuracy: 0.8813\n",
            "Epoch 55/100\n",
            "396/396 [==============================] - ETA: 0s - loss: 0.3168 - accuracy: 0.8823\n",
            "Epoch 55: loss improved from 0.32326 to 0.31683, saving model to next_words.h5\n",
            "396/396 [==============================] - 6s 15ms/step - loss: 0.3168 - accuracy: 0.8823\n",
            "Epoch 56/100\n",
            "396/396 [==============================] - ETA: 0s - loss: 0.3184 - accuracy: 0.8817\n",
            "Epoch 56: loss did not improve from 0.31683\n",
            "396/396 [==============================] - 5s 14ms/step - loss: 0.3184 - accuracy: 0.8817\n",
            "Epoch 57/100\n",
            "393/396 [============================>.] - ETA: 0s - loss: 0.3020 - accuracy: 0.8840\n",
            "Epoch 57: loss improved from 0.31683 to 0.30208, saving model to next_words.h5\n",
            "396/396 [==============================] - 6s 15ms/step - loss: 0.3021 - accuracy: 0.8839\n",
            "Epoch 58/100\n",
            "393/396 [============================>.] - ETA: 0s - loss: 0.2937 - accuracy: 0.8854\n",
            "Epoch 58: loss improved from 0.30208 to 0.29400, saving model to next_words.h5\n",
            "396/396 [==============================] - 6s 15ms/step - loss: 0.2940 - accuracy: 0.8853\n",
            "Epoch 59/100\n",
            "395/396 [============================>.] - ETA: 0s - loss: 0.2881 - accuracy: 0.8867\n",
            "Epoch 59: loss improved from 0.29400 to 0.28833, saving model to next_words.h5\n",
            "396/396 [==============================] - 6s 15ms/step - loss: 0.2883 - accuracy: 0.8865\n",
            "Epoch 60/100\n",
            "394/396 [============================>.] - ETA: 0s - loss: 0.2961 - accuracy: 0.8844\n",
            "Epoch 60: loss did not improve from 0.28833\n",
            "396/396 [==============================] - 5s 13ms/step - loss: 0.2968 - accuracy: 0.8842\n",
            "Epoch 61/100\n",
            "395/396 [============================>.] - ETA: 0s - loss: 0.2999 - accuracy: 0.8837\n",
            "Epoch 61: loss did not improve from 0.28833\n",
            "396/396 [==============================] - 5s 14ms/step - loss: 0.3003 - accuracy: 0.8835\n",
            "Epoch 62/100\n",
            "394/396 [============================>.] - ETA: 0s - loss: 0.3001 - accuracy: 0.8836\n",
            "Epoch 62: loss did not improve from 0.28833\n",
            "396/396 [==============================] - 5s 13ms/step - loss: 0.3004 - accuracy: 0.8835\n",
            "Epoch 63/100\n",
            "396/396 [==============================] - ETA: 0s - loss: 0.3122 - accuracy: 0.8788\n",
            "Epoch 63: loss did not improve from 0.28833\n",
            "396/396 [==============================] - 5s 14ms/step - loss: 0.3122 - accuracy: 0.8788\n",
            "Epoch 64/100\n",
            "393/396 [============================>.] - ETA: 0s - loss: 0.3065 - accuracy: 0.8806\n",
            "Epoch 64: loss did not improve from 0.28833\n",
            "396/396 [==============================] - 5s 13ms/step - loss: 0.3074 - accuracy: 0.8804\n",
            "Epoch 65/100\n",
            "394/396 [============================>.] - ETA: 0s - loss: 0.2918 - accuracy: 0.8815\n",
            "Epoch 65: loss did not improve from 0.28833\n",
            "396/396 [==============================] - 6s 14ms/step - loss: 0.2917 - accuracy: 0.8816\n",
            "Epoch 66/100\n",
            "393/396 [============================>.] - ETA: 0s - loss: 0.2748 - accuracy: 0.8849\n",
            "Epoch 66: loss improved from 0.28833 to 0.27500, saving model to next_words.h5\n",
            "396/396 [==============================] - 6s 15ms/step - loss: 0.2750 - accuracy: 0.8847\n",
            "Epoch 67/100\n",
            "396/396 [==============================] - ETA: 0s - loss: 0.2693 - accuracy: 0.8855\n",
            "Epoch 67: loss improved from 0.27500 to 0.26933, saving model to next_words.h5\n",
            "396/396 [==============================] - 6s 15ms/step - loss: 0.2693 - accuracy: 0.8855\n",
            "Epoch 68/100\n",
            "395/396 [============================>.] - ETA: 0s - loss: 0.2625 - accuracy: 0.8863\n",
            "Epoch 68: loss improved from 0.26933 to 0.26273, saving model to next_words.h5\n",
            "396/396 [==============================] - 6s 15ms/step - loss: 0.2627 - accuracy: 0.8862\n",
            "Epoch 69/100\n",
            "393/396 [============================>.] - ETA: 0s - loss: 0.2565 - accuracy: 0.8884\n",
            "Epoch 69: loss improved from 0.26273 to 0.25712, saving model to next_words.h5\n",
            "396/396 [==============================] - 6s 15ms/step - loss: 0.2571 - accuracy: 0.8882\n",
            "Epoch 70/100\n",
            "395/396 [============================>.] - ETA: 0s - loss: 0.2648 - accuracy: 0.8858\n",
            "Epoch 70: loss did not improve from 0.25712\n",
            "396/396 [==============================] - 5s 14ms/step - loss: 0.2647 - accuracy: 0.8858\n",
            "Epoch 71/100\n",
            "393/396 [============================>.] - ETA: 0s - loss: 0.2739 - accuracy: 0.8841\n",
            "Epoch 71: loss did not improve from 0.25712\n",
            "396/396 [==============================] - 5s 13ms/step - loss: 0.2741 - accuracy: 0.8841\n",
            "Epoch 72/100\n",
            "396/396 [==============================] - ETA: 0s - loss: 0.3060 - accuracy: 0.8759\n",
            "Epoch 72: loss did not improve from 0.25712\n",
            "396/396 [==============================] - 5s 14ms/step - loss: 0.3060 - accuracy: 0.8759\n",
            "Epoch 73/100\n",
            "393/396 [============================>.] - ETA: 0s - loss: 0.3131 - accuracy: 0.8726\n",
            "Epoch 73: loss did not improve from 0.25712\n",
            "396/396 [==============================] - 5s 13ms/step - loss: 0.3132 - accuracy: 0.8725\n",
            "Epoch 74/100\n",
            "396/396 [==============================] - ETA: 0s - loss: 0.2696 - accuracy: 0.8838\n",
            "Epoch 74: loss did not improve from 0.25712\n",
            "396/396 [==============================] - 5s 14ms/step - loss: 0.2696 - accuracy: 0.8838\n",
            "Epoch 75/100\n",
            "393/396 [============================>.] - ETA: 0s - loss: 0.2509 - accuracy: 0.8869\n",
            "Epoch 75: loss improved from 0.25712 to 0.25161, saving model to next_words.h5\n",
            "396/396 [==============================] - 6s 15ms/step - loss: 0.2516 - accuracy: 0.8867\n",
            "Epoch 76/100\n",
            "396/396 [==============================] - ETA: 0s - loss: 0.2432 - accuracy: 0.8892\n",
            "Epoch 76: loss improved from 0.25161 to 0.24324, saving model to next_words.h5\n",
            "396/396 [==============================] - 6s 15ms/step - loss: 0.2432 - accuracy: 0.8892\n",
            "Epoch 77/100\n",
            "393/396 [============================>.] - ETA: 0s - loss: 0.2427 - accuracy: 0.8880\n",
            "Epoch 77: loss improved from 0.24324 to 0.24317, saving model to next_words.h5\n",
            "396/396 [==============================] - 6s 15ms/step - loss: 0.2432 - accuracy: 0.8878\n",
            "Epoch 78/100\n",
            "396/396 [==============================] - ETA: 0s - loss: 0.2431 - accuracy: 0.8875\n",
            "Epoch 78: loss improved from 0.24317 to 0.24308, saving model to next_words.h5\n",
            "396/396 [==============================] - 6s 16ms/step - loss: 0.2431 - accuracy: 0.8875\n",
            "Epoch 79/100\n",
            "393/396 [============================>.] - ETA: 0s - loss: 0.2466 - accuracy: 0.8876\n",
            "Epoch 79: loss did not improve from 0.24308\n",
            "396/396 [==============================] - 5s 13ms/step - loss: 0.2465 - accuracy: 0.8876\n",
            "Epoch 80/100\n",
            "396/396 [==============================] - ETA: 0s - loss: 0.2595 - accuracy: 0.8857\n",
            "Epoch 80: loss did not improve from 0.24308\n",
            "396/396 [==============================] - 5s 14ms/step - loss: 0.2595 - accuracy: 0.8857\n",
            "Epoch 81/100\n",
            "396/396 [==============================] - ETA: 0s - loss: 0.3211 - accuracy: 0.8715\n",
            "Epoch 81: loss did not improve from 0.24308\n",
            "396/396 [==============================] - 5s 13ms/step - loss: 0.3211 - accuracy: 0.8715\n",
            "Epoch 82/100\n",
            "395/396 [============================>.] - ETA: 0s - loss: 0.2956 - accuracy: 0.8755\n",
            "Epoch 82: loss did not improve from 0.24308\n",
            "396/396 [==============================] - 5s 13ms/step - loss: 0.2957 - accuracy: 0.8755\n",
            "Epoch 83/100\n",
            "396/396 [==============================] - ETA: 0s - loss: 0.2592 - accuracy: 0.8834\n",
            "Epoch 83: loss did not improve from 0.24308\n",
            "396/396 [==============================] - 6s 14ms/step - loss: 0.2592 - accuracy: 0.8834\n",
            "Epoch 84/100\n",
            "393/396 [============================>.] - ETA: 0s - loss: 0.2364 - accuracy: 0.8882\n",
            "Epoch 84: loss improved from 0.24308 to 0.23623, saving model to next_words.h5\n",
            "396/396 [==============================] - 6s 15ms/step - loss: 0.2362 - accuracy: 0.8882\n",
            "Epoch 85/100\n",
            "396/396 [==============================] - ETA: 0s - loss: 0.2298 - accuracy: 0.8880\n",
            "Epoch 85: loss improved from 0.23623 to 0.22981, saving model to next_words.h5\n",
            "396/396 [==============================] - 6s 15ms/step - loss: 0.2298 - accuracy: 0.8880\n",
            "Epoch 86/100\n",
            "393/396 [============================>.] - ETA: 0s - loss: 0.2275 - accuracy: 0.8885\n",
            "Epoch 86: loss improved from 0.22981 to 0.22787, saving model to next_words.h5\n",
            "396/396 [==============================] - 6s 15ms/step - loss: 0.2279 - accuracy: 0.8882\n",
            "Epoch 87/100\n",
            "396/396 [==============================] - ETA: 0s - loss: 0.2268 - accuracy: 0.8892\n",
            "Epoch 87: loss improved from 0.22787 to 0.22684, saving model to next_words.h5\n",
            "396/396 [==============================] - 6s 16ms/step - loss: 0.2268 - accuracy: 0.8892\n",
            "Epoch 88/100\n",
            "393/396 [============================>.] - ETA: 0s - loss: 0.2325 - accuracy: 0.8883\n",
            "Epoch 88: loss did not improve from 0.22684\n",
            "396/396 [==============================] - 5s 13ms/step - loss: 0.2327 - accuracy: 0.8882\n",
            "Epoch 89/100\n",
            "395/396 [============================>.] - ETA: 0s - loss: 0.2355 - accuracy: 0.8878\n",
            "Epoch 89: loss did not improve from 0.22684\n",
            "396/396 [==============================] - 6s 14ms/step - loss: 0.2357 - accuracy: 0.8876\n",
            "Epoch 90/100\n",
            "396/396 [==============================] - ETA: 0s - loss: 0.2499 - accuracy: 0.8862\n",
            "Epoch 90: loss did not improve from 0.22684\n",
            "396/396 [==============================] - 5s 14ms/step - loss: 0.2499 - accuracy: 0.8862\n",
            "Epoch 91/100\n",
            "395/396 [============================>.] - ETA: 0s - loss: 0.3176 - accuracy: 0.8676\n",
            "Epoch 91: loss did not improve from 0.22684\n",
            "396/396 [==============================] - 5s 14ms/step - loss: 0.3176 - accuracy: 0.8677\n",
            "Epoch 92/100\n",
            "393/396 [============================>.] - ETA: 0s - loss: 0.2835 - accuracy: 0.8760\n",
            "Epoch 92: loss did not improve from 0.22684\n",
            "396/396 [==============================] - 5s 13ms/step - loss: 0.2843 - accuracy: 0.8757\n",
            "Epoch 93/100\n",
            "396/396 [==============================] - ETA: 0s - loss: 0.2471 - accuracy: 0.8852\n",
            "Epoch 93: loss did not improve from 0.22684\n",
            "396/396 [==============================] - 5s 14ms/step - loss: 0.2471 - accuracy: 0.8852\n",
            "Epoch 94/100\n",
            "393/396 [============================>.] - ETA: 0s - loss: 0.2266 - accuracy: 0.8883\n",
            "Epoch 94: loss did not improve from 0.22684\n",
            "396/396 [==============================] - 5s 14ms/step - loss: 0.2269 - accuracy: 0.8881\n",
            "Epoch 95/100\n",
            "393/396 [============================>.] - ETA: 0s - loss: 0.2198 - accuracy: 0.8888\n",
            "Epoch 95: loss improved from 0.22684 to 0.22033, saving model to next_words.h5\n",
            "396/396 [==============================] - 6s 15ms/step - loss: 0.2203 - accuracy: 0.8887\n",
            "Epoch 96/100\n",
            "394/396 [============================>.] - ETA: 0s - loss: 0.2181 - accuracy: 0.8905\n",
            "Epoch 96: loss improved from 0.22033 to 0.21807, saving model to next_words.h5\n",
            "396/396 [==============================] - 6s 15ms/step - loss: 0.2181 - accuracy: 0.8905\n",
            "Epoch 97/100\n",
            "393/396 [============================>.] - ETA: 0s - loss: 0.2190 - accuracy: 0.8896\n",
            "Epoch 97: loss did not improve from 0.21807\n",
            "396/396 [==============================] - 5s 13ms/step - loss: 0.2187 - accuracy: 0.8897\n",
            "Epoch 98/100\n",
            "396/396 [==============================] - ETA: 0s - loss: 0.2201 - accuracy: 0.8897\n",
            "Epoch 98: loss did not improve from 0.21807\n",
            "396/396 [==============================] - 6s 14ms/step - loss: 0.2201 - accuracy: 0.8897\n",
            "Epoch 99/100\n",
            "396/396 [==============================] - ETA: 0s - loss: 0.2220 - accuracy: 0.8879\n",
            "Epoch 99: loss did not improve from 0.21807\n",
            "396/396 [==============================] - 5s 13ms/step - loss: 0.2220 - accuracy: 0.8879\n",
            "Epoch 100/100\n",
            "393/396 [============================>.] - ETA: 0s - loss: 0.2271 - accuracy: 0.8894\n",
            "Epoch 100: loss did not improve from 0.21807\n",
            "396/396 [==============================] - 6s 14ms/step - loss: 0.2272 - accuracy: 0.8893\n"
          ]
        },
        {
          "output_type": "execute_result",
          "data": {
            "text/plain": [
              "<keras.callbacks.History at 0x7fd7e64a2220>"
            ]
          },
          "metadata": {},
          "execution_count": 54
        }
      ],
      "source": [
        "from tensorflow.keras.callbacks import ModelCheckpoint\n",
        "\n",
        "checkpoint = ModelCheckpoint(\"next_words.h5\", monitor='loss', verbose=1, save_best_only=True)\n",
        "model.compile(loss=\"categorical_crossentropy\", optimizer=Adam(learning_rate=0.001),metrics=[\"accuracy\"])\n",
        "model.fit(X, y, epochs=100, batch_size=64, callbacks=[checkpoint])"
      ]
    },
    {
      "cell_type": "markdown",
      "source": [
        "Predicting"
      ],
      "metadata": {
        "id": "dYH5y-cX95qu"
      }
    },
    {
      "cell_type": "code",
      "execution_count": 55,
      "metadata": {
        "id": "-fLGDH89xeoF"
      },
      "outputs": [],
      "source": [
        "from tensorflow.keras.models import load_model\n",
        "import numpy as np\n",
        "import pickle\n",
        "\n",
        "model = load_model('next_words.h5')\n",
        "tokenizer = pickle.load(open('token.pkl', 'rb'))\n",
        "\n",
        "def Predict(model, tokenizer, text):\n",
        "\n",
        "  sequence = tokenizer.texts_to_sequences([text])\n",
        "  sequence = np.array(sequence)\n",
        "  preds = np.argmax(model.predict(sequence))\n",
        "  predicted_word = \"\"\n",
        "  \n",
        "  for key, value in tokenizer.word_index.items():\n",
        "      if value == preds:\n",
        "          predicted_word = key\n",
        "          break\n",
        "  \n",
        "  print(predicted_word)\n",
        "  return predicted_word"
      ]
    },
    {
      "cell_type": "markdown",
      "source": [
        "Taking input\n"
      ],
      "metadata": {
        "id": "-JZ0RIh2-BL2"
      }
    },
    {
      "cell_type": "code",
      "execution_count": 56,
      "metadata": {
        "id": "6sf6L5UxxpBQ",
        "colab": {
          "base_uri": "https://localhost:8080/"
        },
        "outputId": "155453ab-5662-4ce7-eaa5-d6231ff20e36"
      },
      "outputs": [
        {
          "output_type": "stream",
          "name": "stdout",
          "text": [
            "Enter your line: and only stopped\n",
            "['and', 'only', 'stopped']\n",
            "1/1 [==============================] - 1s 620ms/step\n",
            "when\n",
            "Enter your line:  it was covered\n",
            "['it', 'was', 'covered']\n",
            "1/1 [==============================] - 0s 20ms/step\n",
            "with\n",
            "Enter your line: I'd have given \n",
            "['have', 'given', '']\n",
            "1/1 [==============================] - 1s 621ms/step\n",
            "a\n",
            "Enter your line: s a funny\n",
            "['s', 'a', 'funny']\n",
            "1/1 [==============================] - 0s 19ms/step\n",
            "project\n",
            "Enter your line: from up there\n",
            "['from', 'up', 'there']\n",
            "1/1 [==============================] - 0s 19ms/step\n",
            "especially\n",
            "Enter your line: 0\n",
            "Execution completed.....\n"
          ]
        }
      ],
      "source": [
        "while(True):\n",
        "  text = input(\"Enter your line: \")\n",
        "  \n",
        "  if text == \"0\":\n",
        "      print(\"Execution completed.....\")\n",
        "      break\n",
        "  \n",
        "  else:\n",
        "      try:\n",
        "          text = text.split(\" \")\n",
        "          text = text[-3:]\n",
        "          print(text)\n",
        "        \n",
        "          Predict(model, tokenizer, text)\n",
        "          \n",
        "      except Exception as e:\n",
        "        print(\"Error occurred: \",e)\n",
        "        continue"
      ]
    }
  ],
  "metadata": {
    "accelerator": "GPU",
    "colab": {
      "provenance": [],
      "authorship_tag": "ABX9TyOoCLCkBkNAXo3GtfVHwxmP",
      "include_colab_link": true
    },
    "gpuClass": "standard",
    "kernelspec": {
      "display_name": "Python 3",
      "name": "python3"
    },
    "language_info": {
      "name": "python"
    }
  },
  "nbformat": 4,
  "nbformat_minor": 0
}