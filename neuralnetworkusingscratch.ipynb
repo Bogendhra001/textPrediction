{
  "nbformat": 4,
  "nbformat_minor": 0,
  "metadata": {
    "colab": {
      "provenance": []
    },
    "kernelspec": {
      "name": "python3",
      "display_name": "Python 3"
    },
    "language_info": {
      "name": "python"
    }
  },
  "cells": [
    {
      "cell_type": "code",
      "execution_count": null,
      "metadata": {
        "id": "cZs79homuQRc"
      },
      "outputs": [],
      "source": [
        "import tensorflow as tf\n",
        "from tensorflow import keras"
      ]
    },
    {
      "cell_type": "code",
      "source": [
        "import numpy as np\n",
        "import pandas as pd\n"
      ],
      "metadata": {
        "id": "ZtyIi9OdwpdW"
      },
      "execution_count": null,
      "outputs": []
    },
    {
      "cell_type": "code",
      "source": [
        "from google.colab import files\n",
        "data=files.upload()\n",
        "data=pd.read_csv(\"Data1 (1).csv\")"
      ],
      "metadata": {
        "colab": {
          "base_uri": "https://localhost:8080/",
          "height": 73
        },
        "id": "FUrnpwdfww4j",
        "outputId": "c1c494dc-1bae-41c8-9701-6f7fda013442"
      },
      "execution_count": null,
      "outputs": [
        {
          "output_type": "display_data",
          "data": {
            "text/plain": [
              "<IPython.core.display.HTML object>"
            ],
            "text/html": [
              "\n",
              "     <input type=\"file\" id=\"files-d8209ea7-090c-47cf-aa0f-de272e599ff5\" name=\"files[]\" multiple disabled\n",
              "        style=\"border:none\" />\n",
              "     <output id=\"result-d8209ea7-090c-47cf-aa0f-de272e599ff5\">\n",
              "      Upload widget is only available when the cell has been executed in the\n",
              "      current browser session. Please rerun this cell to enable.\n",
              "      </output>\n",
              "      <script>// Copyright 2017 Google LLC\n",
              "//\n",
              "// Licensed under the Apache License, Version 2.0 (the \"License\");\n",
              "// you may not use this file except in compliance with the License.\n",
              "// You may obtain a copy of the License at\n",
              "//\n",
              "//      http://www.apache.org/licenses/LICENSE-2.0\n",
              "//\n",
              "// Unless required by applicable law or agreed to in writing, software\n",
              "// distributed under the License is distributed on an \"AS IS\" BASIS,\n",
              "// WITHOUT WARRANTIES OR CONDITIONS OF ANY KIND, either express or implied.\n",
              "// See the License for the specific language governing permissions and\n",
              "// limitations under the License.\n",
              "\n",
              "/**\n",
              " * @fileoverview Helpers for google.colab Python module.\n",
              " */\n",
              "(function(scope) {\n",
              "function span(text, styleAttributes = {}) {\n",
              "  const element = document.createElement('span');\n",
              "  element.textContent = text;\n",
              "  for (const key of Object.keys(styleAttributes)) {\n",
              "    element.style[key] = styleAttributes[key];\n",
              "  }\n",
              "  return element;\n",
              "}\n",
              "\n",
              "// Max number of bytes which will be uploaded at a time.\n",
              "const MAX_PAYLOAD_SIZE = 100 * 1024;\n",
              "\n",
              "function _uploadFiles(inputId, outputId) {\n",
              "  const steps = uploadFilesStep(inputId, outputId);\n",
              "  const outputElement = document.getElementById(outputId);\n",
              "  // Cache steps on the outputElement to make it available for the next call\n",
              "  // to uploadFilesContinue from Python.\n",
              "  outputElement.steps = steps;\n",
              "\n",
              "  return _uploadFilesContinue(outputId);\n",
              "}\n",
              "\n",
              "// This is roughly an async generator (not supported in the browser yet),\n",
              "// where there are multiple asynchronous steps and the Python side is going\n",
              "// to poll for completion of each step.\n",
              "// This uses a Promise to block the python side on completion of each step,\n",
              "// then passes the result of the previous step as the input to the next step.\n",
              "function _uploadFilesContinue(outputId) {\n",
              "  const outputElement = document.getElementById(outputId);\n",
              "  const steps = outputElement.steps;\n",
              "\n",
              "  const next = steps.next(outputElement.lastPromiseValue);\n",
              "  return Promise.resolve(next.value.promise).then((value) => {\n",
              "    // Cache the last promise value to make it available to the next\n",
              "    // step of the generator.\n",
              "    outputElement.lastPromiseValue = value;\n",
              "    return next.value.response;\n",
              "  });\n",
              "}\n",
              "\n",
              "/**\n",
              " * Generator function which is called between each async step of the upload\n",
              " * process.\n",
              " * @param {string} inputId Element ID of the input file picker element.\n",
              " * @param {string} outputId Element ID of the output display.\n",
              " * @return {!Iterable<!Object>} Iterable of next steps.\n",
              " */\n",
              "function* uploadFilesStep(inputId, outputId) {\n",
              "  const inputElement = document.getElementById(inputId);\n",
              "  inputElement.disabled = false;\n",
              "\n",
              "  const outputElement = document.getElementById(outputId);\n",
              "  outputElement.innerHTML = '';\n",
              "\n",
              "  const pickedPromise = new Promise((resolve) => {\n",
              "    inputElement.addEventListener('change', (e) => {\n",
              "      resolve(e.target.files);\n",
              "    });\n",
              "  });\n",
              "\n",
              "  const cancel = document.createElement('button');\n",
              "  inputElement.parentElement.appendChild(cancel);\n",
              "  cancel.textContent = 'Cancel upload';\n",
              "  const cancelPromise = new Promise((resolve) => {\n",
              "    cancel.onclick = () => {\n",
              "      resolve(null);\n",
              "    };\n",
              "  });\n",
              "\n",
              "  // Wait for the user to pick the files.\n",
              "  const files = yield {\n",
              "    promise: Promise.race([pickedPromise, cancelPromise]),\n",
              "    response: {\n",
              "      action: 'starting',\n",
              "    }\n",
              "  };\n",
              "\n",
              "  cancel.remove();\n",
              "\n",
              "  // Disable the input element since further picks are not allowed.\n",
              "  inputElement.disabled = true;\n",
              "\n",
              "  if (!files) {\n",
              "    return {\n",
              "      response: {\n",
              "        action: 'complete',\n",
              "      }\n",
              "    };\n",
              "  }\n",
              "\n",
              "  for (const file of files) {\n",
              "    const li = document.createElement('li');\n",
              "    li.append(span(file.name, {fontWeight: 'bold'}));\n",
              "    li.append(span(\n",
              "        `(${file.type || 'n/a'}) - ${file.size} bytes, ` +\n",
              "        `last modified: ${\n",
              "            file.lastModifiedDate ? file.lastModifiedDate.toLocaleDateString() :\n",
              "                                    'n/a'} - `));\n",
              "    const percent = span('0% done');\n",
              "    li.appendChild(percent);\n",
              "\n",
              "    outputElement.appendChild(li);\n",
              "\n",
              "    const fileDataPromise = new Promise((resolve) => {\n",
              "      const reader = new FileReader();\n",
              "      reader.onload = (e) => {\n",
              "        resolve(e.target.result);\n",
              "      };\n",
              "      reader.readAsArrayBuffer(file);\n",
              "    });\n",
              "    // Wait for the data to be ready.\n",
              "    let fileData = yield {\n",
              "      promise: fileDataPromise,\n",
              "      response: {\n",
              "        action: 'continue',\n",
              "      }\n",
              "    };\n",
              "\n",
              "    // Use a chunked sending to avoid message size limits. See b/62115660.\n",
              "    let position = 0;\n",
              "    do {\n",
              "      const length = Math.min(fileData.byteLength - position, MAX_PAYLOAD_SIZE);\n",
              "      const chunk = new Uint8Array(fileData, position, length);\n",
              "      position += length;\n",
              "\n",
              "      const base64 = btoa(String.fromCharCode.apply(null, chunk));\n",
              "      yield {\n",
              "        response: {\n",
              "          action: 'append',\n",
              "          file: file.name,\n",
              "          data: base64,\n",
              "        },\n",
              "      };\n",
              "\n",
              "      let percentDone = fileData.byteLength === 0 ?\n",
              "          100 :\n",
              "          Math.round((position / fileData.byteLength) * 100);\n",
              "      percent.textContent = `${percentDone}% done`;\n",
              "\n",
              "    } while (position < fileData.byteLength);\n",
              "  }\n",
              "\n",
              "  // All done.\n",
              "  yield {\n",
              "    response: {\n",
              "      action: 'complete',\n",
              "    }\n",
              "  };\n",
              "}\n",
              "\n",
              "scope.google = scope.google || {};\n",
              "scope.google.colab = scope.google.colab || {};\n",
              "scope.google.colab._files = {\n",
              "  _uploadFiles,\n",
              "  _uploadFilesContinue,\n",
              "};\n",
              "})(self);\n",
              "</script> "
            ]
          },
          "metadata": {}
        },
        {
          "output_type": "stream",
          "name": "stdout",
          "text": [
            "Saving Data1 (1).csv to Data1 (1).csv\n"
          ]
        }
      ]
    },
    {
      "cell_type": "code",
      "source": [
        "x=data.iloc[::,:-1]\n",
        "y=data.iloc[::,-1]\n",
        "print(y.ndim)\n",
        "y=np.array([y]).T\n",
        "print(x)"
      ],
      "metadata": {
        "colab": {
          "base_uri": "https://localhost:8080/"
        },
        "id": "m3x2ypCoxjX7",
        "outputId": "bbf78068-c3d8-4a29-aa49-d716e054c279"
      },
      "execution_count": null,
      "outputs": [
        {
          "output_type": "stream",
          "name": "stdout",
          "text": [
            "1\n",
            "    outlook   Temperature  Humidity  Wind\n",
            "0          1            1         1     1\n",
            "1          1            1         1     2\n",
            "2          2            1         1     1\n",
            "3          3            2         1     1\n",
            "4          3            3         2     1\n",
            "5          3            3         2     2\n",
            "6          2            3         2     2\n",
            "7          1            2         1     1\n",
            "8          1            3         2     1\n",
            "9          3            2         2     1\n",
            "10         1            2         2     2\n",
            "11         2            2         1     2\n",
            "12         2            1         2     1\n",
            "13         3            2         1     2\n"
          ]
        }
      ]
    },
    {
      "cell_type": "code",
      "source": [
        "from sklearn.model_selection import train_test_split\n",
        "\n",
        "x_train,x_test,y_train,y_test=train_test_split(x,y,random_state=0)\n",
        "\n",
        "print(x_train,y_train)"
      ],
      "metadata": {
        "colab": {
          "base_uri": "https://localhost:8080/"
        },
        "id": "yqu0vjBLx6SL",
        "outputId": "952c0367-5fed-474a-d379-3cb0cf88c70b"
      },
      "execution_count": null,
      "outputs": [
        {
          "output_type": "stream",
          "name": "stdout",
          "text": [
            "    outlook   Temperature  Humidity  Wind\n",
            "2          2            1         1     1\n",
            "13         3            2         1     2\n",
            "9          3            2         2     1\n",
            "1          1            1         1     2\n",
            "7          1            2         1     1\n",
            "10         1            2         2     2\n",
            "3          3            2         1     1\n",
            "0          1            1         1     1\n",
            "5          3            3         2     2\n",
            "12         2            1         2     1 2     1\n",
            "13    0\n",
            "9     1\n",
            "1     0\n",
            "7     0\n",
            "10    1\n",
            "3     1\n",
            "0     0\n",
            "5     0\n",
            "12    1\n",
            "Name: Play Tennis, dtype: int64\n"
          ]
        }
      ]
    },
    {
      "cell_type": "code",
      "source": [
        "np.random.seed(1)\n",
        "\n",
        "synaptic_weights=2*np.random.random((4,1))-1\n",
        "\n",
        "print(\"synaptic weights\")\n",
        "\n",
        "print(synaptic_weights)"
      ],
      "metadata": {
        "colab": {
          "base_uri": "https://localhost:8080/"
        },
        "id": "qPwAdRgsyPsT",
        "outputId": "118aae0f-d8d6-49ca-ec25-63bd2212a909"
      },
      "execution_count": null,
      "outputs": [
        {
          "output_type": "stream",
          "name": "stdout",
          "text": [
            "synaptic weights\n",
            "[[-0.16595599]\n",
            " [ 0.44064899]\n",
            " [-0.99977125]\n",
            " [-0.39533485]]\n"
          ]
        }
      ]
    },
    {
      "cell_type": "code",
      "source": [
        "\n",
        "def sigmoid(x):\n",
        "  return(1/(1+np.exp(-x)))\n",
        "\n",
        "\n",
        "def derivative_sigmoid(x):\n",
        "  return(x*(1-x))\n",
        "\n"
      ],
      "metadata": {
        "id": "yBi30MdHvPvA"
      },
      "execution_count": null,
      "outputs": []
    },
    {
      "cell_type": "code",
      "source": [
        "for iteration in range(100000):\n",
        "  input_layer=x\n",
        "  output=sigmoid(np.dot(input_layer,synaptic_weights))\n",
        "  error=y-output\n",
        "  adjustments=error*derivative_sigmoid(output)\n",
        "  synaptic_weights+=np.dot(input_layer.T,adjustments)\n",
        "\n"
      ],
      "metadata": {
        "id": "BkPjpEVavWV5"
      },
      "execution_count": null,
      "outputs": []
    },
    {
      "cell_type": "code",
      "source": [
        "print(\"synatic weights after training are\")\n",
        "\n",
        "print(synaptic_weights)\n"
      ],
      "metadata": {
        "colab": {
          "base_uri": "https://localhost:8080/"
        },
        "id": "PLVLFkOMxCeL",
        "outputId": "5d4aea15-e789-4c9a-fe80-8ff1657033e3"
      },
      "execution_count": null,
      "outputs": [
        {
          "output_type": "stream",
          "name": "stdout",
          "text": [
            "synatic weights after training are\n",
            "[[ 0.66801705]\n",
            " [-1.62845145]\n",
            " [ 5.40374943]\n",
            " [-3.75597263]]\n"
          ]
        }
      ]
    },
    {
      "cell_type": "code",
      "source": [
        "print(\"output\")\n",
        "\n",
        "output=np.rint(output)\n",
        "print(output)"
      ],
      "metadata": {
        "colab": {
          "base_uri": "https://localhost:8080/"
        },
        "id": "hFUHbwU0xV_m",
        "outputId": "0ddb399f-a7f3-4cd4-ad85-59945bfeb106"
      },
      "execution_count": null,
      "outputs": [
        {
          "output_type": "stream",
          "name": "stdout",
          "text": [
            "output\n",
            "[[1.]\n",
            " [0.]\n",
            " [1.]\n",
            " [1.]\n",
            " [1.]\n",
            " [1.]\n",
            " [1.]\n",
            " [0.]\n",
            " [1.]\n",
            " [1.]\n",
            " [1.]\n",
            " [0.]\n",
            " [1.]\n",
            " [0.]]\n"
          ]
        }
      ]
    },
    {
      "cell_type": "code",
      "source": [
        "from sklearn.metrics import accuracy_score\n",
        "scr=accuracy_score(y,output)\n",
        "print(scr)"
      ],
      "metadata": {
        "colab": {
          "base_uri": "https://localhost:8080/"
        },
        "id": "qsJCiSBe318T",
        "outputId": "de9cf4b7-4d4a-4e69-e498-8dd01b977959"
      },
      "execution_count": null,
      "outputs": [
        {
          "output_type": "stream",
          "name": "stdout",
          "text": [
            "0.7857142857142857\n"
          ]
        }
      ]
    },
    {
      "cell_type": "code",
      "source": [],
      "metadata": {
        "id": "uYpZJXGd5kN9"
      },
      "execution_count": null,
      "outputs": []
    },
    {
      "cell_type": "code",
      "source": [],
      "metadata": {
        "id": "AQzn18pe5lFU"
      },
      "execution_count": null,
      "outputs": []
    },
    {
      "cell_type": "code",
      "source": [],
      "metadata": {
        "id": "q95bF-Tv5lI8"
      },
      "execution_count": null,
      "outputs": []
    },
    {
      "cell_type": "code",
      "source": [],
      "metadata": {
        "id": "N0AmEvzj5lMb"
      },
      "execution_count": null,
      "outputs": []
    },
    {
      "cell_type": "code",
      "source": [],
      "metadata": {
        "id": "dbs3UcNo5lPE"
      },
      "execution_count": null,
      "outputs": []
    },
    {
      "cell_type": "code",
      "source": [],
      "metadata": {
        "id": "ISA-IMdb5lR8"
      },
      "execution_count": null,
      "outputs": []
    },
    {
      "cell_type": "code",
      "source": [
        "\n",
        "input_shape = [x.shape[1]]\n",
        "model = tf.keras.Sequential([\n",
        " \n",
        "    tf.keras.layers.Dense(units=64, activation='relu',\n",
        "                          input_shape=input_shape),\n",
        "    tf.keras.layers.Dense(units=64, activation='relu'),\n",
        "    tf.keras.layers.Dense(units=1)\n",
        "])\n",
        "model.summary()"
      ],
      "metadata": {
        "colab": {
          "base_uri": "https://localhost:8080/"
        },
        "id": "qEfJutnF5lUP",
        "outputId": "c1f4d7ef-edcf-4064-c9e0-7dccaf8f5568"
      },
      "execution_count": null,
      "outputs": [
        {
          "output_type": "stream",
          "name": "stdout",
          "text": [
            "Model: \"sequential_1\"\n",
            "_________________________________________________________________\n",
            " Layer (type)                Output Shape              Param #   \n",
            "=================================================================\n",
            " dense_3 (Dense)             (None, 64)                320       \n",
            "                                                                 \n",
            " dense_4 (Dense)             (None, 64)                4160      \n",
            "                                                                 \n",
            " dense_5 (Dense)             (None, 1)                 65        \n",
            "                                                                 \n",
            "=================================================================\n",
            "Total params: 4,545\n",
            "Trainable params: 4,545\n",
            "Non-trainable params: 0\n",
            "_________________________________________________________________\n"
          ]
        }
      ]
    },
    {
      "cell_type": "code",
      "source": [
        "# adam optimizer works pretty well for\n",
        "# all kinds of problems and is a good starting point\n",
        "model.compile(optimizer='adam', \n",
        "               \n",
        "              # MAE error is good for\n",
        "              # numerical predictions\n",
        "              loss='mae') "
      ],
      "metadata": {
        "id": "MErkA4bD55fE"
      },
      "execution_count": null,
      "outputs": []
    },
    {
      "cell_type": "code",
      "source": [
        "\n",
        "losses = model.fit(x, y,\n",
        " \n",
        "                   validation_data=(x, y),\n",
        "                    c\n",
        "                   # it will use 'batch_size' number\n",
        "                   # of examples per example\n",
        "                   batch_size=256,\n",
        "                   epochs=200,  # total epoch\n",
        " \n",
        "                   )"
      ],
      "metadata": {
        "colab": {
          "base_uri": "https://localhost:8080/"
        },
        "id": "MVXDwDxS6B2r",
        "outputId": "8f81cbbf-da42-43ec-aaee-d8a001d9b152"
      },
      "execution_count": null,
      "outputs": [
        {
          "output_type": "stream",
          "name": "stdout",
          "text": [
            "Epoch 1/200\n",
            "1/1 [==============================] - 0s 50ms/step - loss: 0.0101 - val_loss: 0.0244\n",
            "Epoch 2/200\n",
            "1/1 [==============================] - 0s 35ms/step - loss: 0.0244 - val_loss: 0.0335\n",
            "Epoch 3/200\n",
            "1/1 [==============================] - 0s 36ms/step - loss: 0.0335 - val_loss: 0.0198\n",
            "Epoch 4/200\n",
            "1/1 [==============================] - 0s 54ms/step - loss: 0.0198 - val_loss: 0.0143\n",
            "Epoch 5/200\n",
            "1/1 [==============================] - 0s 37ms/step - loss: 0.0143 - val_loss: 0.0232\n",
            "Epoch 6/200\n",
            "1/1 [==============================] - 0s 34ms/step - loss: 0.0232 - val_loss: 0.0100\n",
            "Epoch 7/200\n",
            "1/1 [==============================] - 0s 36ms/step - loss: 0.0100 - val_loss: 0.0200\n",
            "Epoch 8/200\n",
            "1/1 [==============================] - 0s 38ms/step - loss: 0.0200 - val_loss: 0.0245\n",
            "Epoch 9/200\n",
            "1/1 [==============================] - 0s 36ms/step - loss: 0.0245 - val_loss: 0.0067\n",
            "Epoch 10/200\n",
            "1/1 [==============================] - 0s 46ms/step - loss: 0.0067 - val_loss: 0.0237\n",
            "Epoch 11/200\n",
            "1/1 [==============================] - 0s 42ms/step - loss: 0.0237 - val_loss: 0.0285\n",
            "Epoch 12/200\n",
            "1/1 [==============================] - 0s 36ms/step - loss: 0.0285 - val_loss: 0.0105\n",
            "Epoch 13/200\n",
            "1/1 [==============================] - 0s 39ms/step - loss: 0.0105 - val_loss: 0.0274\n",
            "Epoch 14/200\n",
            "1/1 [==============================] - 0s 40ms/step - loss: 0.0274 - val_loss: 0.0396\n",
            "Epoch 15/200\n",
            "1/1 [==============================] - 0s 40ms/step - loss: 0.0396 - val_loss: 0.0284\n",
            "Epoch 16/200\n",
            "1/1 [==============================] - 0s 36ms/step - loss: 0.0284 - val_loss: 0.0097\n",
            "Epoch 17/200\n",
            "1/1 [==============================] - 0s 43ms/step - loss: 0.0097 - val_loss: 0.0234\n",
            "Epoch 18/200\n",
            "1/1 [==============================] - 0s 53ms/step - loss: 0.0234 - val_loss: 0.0197\n",
            "Epoch 19/200\n",
            "1/1 [==============================] - 0s 36ms/step - loss: 0.0197 - val_loss: 0.0074\n",
            "Epoch 20/200\n",
            "1/1 [==============================] - 0s 35ms/step - loss: 0.0074 - val_loss: 0.0236\n",
            "Epoch 21/200\n",
            "1/1 [==============================] - 0s 35ms/step - loss: 0.0236 - val_loss: 0.0185\n",
            "Epoch 22/200\n",
            "1/1 [==============================] - 0s 48ms/step - loss: 0.0185 - val_loss: 0.0082\n",
            "Epoch 23/200\n",
            "1/1 [==============================] - 0s 37ms/step - loss: 0.0082 - val_loss: 0.0158\n",
            "Epoch 24/200\n",
            "1/1 [==============================] - 0s 37ms/step - loss: 0.0158 - val_loss: 0.0066\n",
            "Epoch 25/200\n",
            "1/1 [==============================] - 0s 34ms/step - loss: 0.0066 - val_loss: 0.0109\n",
            "Epoch 26/200\n",
            "1/1 [==============================] - 0s 33ms/step - loss: 0.0109 - val_loss: 0.0082\n",
            "Epoch 27/200\n",
            "1/1 [==============================] - 0s 39ms/step - loss: 0.0082 - val_loss: 0.0105\n",
            "Epoch 28/200\n",
            "1/1 [==============================] - 0s 38ms/step - loss: 0.0105 - val_loss: 0.0076\n",
            "Epoch 29/200\n",
            "1/1 [==============================] - 0s 34ms/step - loss: 0.0076 - val_loss: 0.0070\n",
            "Epoch 30/200\n",
            "1/1 [==============================] - 0s 52ms/step - loss: 0.0070 - val_loss: 0.0057\n",
            "Epoch 31/200\n",
            "1/1 [==============================] - 0s 38ms/step - loss: 0.0057 - val_loss: 0.0077\n",
            "Epoch 32/200\n",
            "1/1 [==============================] - 0s 41ms/step - loss: 0.0077 - val_loss: 0.0116\n",
            "Epoch 33/200\n",
            "1/1 [==============================] - 0s 38ms/step - loss: 0.0116 - val_loss: 0.0089\n",
            "Epoch 34/200\n",
            "1/1 [==============================] - 0s 34ms/step - loss: 0.0089 - val_loss: 0.0088\n",
            "Epoch 35/200\n",
            "1/1 [==============================] - 0s 35ms/step - loss: 0.0088 - val_loss: 0.0113\n",
            "Epoch 36/200\n",
            "1/1 [==============================] - 0s 35ms/step - loss: 0.0113 - val_loss: 0.0079\n",
            "Epoch 37/200\n",
            "1/1 [==============================] - 0s 40ms/step - loss: 0.0079 - val_loss: 0.0148\n",
            "Epoch 38/200\n",
            "1/1 [==============================] - 0s 36ms/step - loss: 0.0148 - val_loss: 0.0045\n",
            "Epoch 39/200\n",
            "1/1 [==============================] - 0s 36ms/step - loss: 0.0045 - val_loss: 0.0169\n",
            "Epoch 40/200\n",
            "1/1 [==============================] - 0s 36ms/step - loss: 0.0169 - val_loss: 0.0124\n",
            "Epoch 41/200\n",
            "1/1 [==============================] - 0s 35ms/step - loss: 0.0124 - val_loss: 0.0134\n",
            "Epoch 42/200\n",
            "1/1 [==============================] - 0s 35ms/step - loss: 0.0134 - val_loss: 0.0165\n",
            "Epoch 43/200\n",
            "1/1 [==============================] - 0s 35ms/step - loss: 0.0165 - val_loss: 0.0097\n",
            "Epoch 44/200\n",
            "1/1 [==============================] - 0s 36ms/step - loss: 0.0097 - val_loss: 0.0175\n",
            "Epoch 45/200\n",
            "1/1 [==============================] - 0s 33ms/step - loss: 0.0175 - val_loss: 0.0123\n",
            "Epoch 46/200\n",
            "1/1 [==============================] - 0s 35ms/step - loss: 0.0123 - val_loss: 0.0113\n",
            "Epoch 47/200\n",
            "1/1 [==============================] - 0s 44ms/step - loss: 0.0113 - val_loss: 0.0155\n",
            "Epoch 48/200\n",
            "1/1 [==============================] - 0s 44ms/step - loss: 0.0155 - val_loss: 0.0074\n",
            "Epoch 49/200\n",
            "1/1 [==============================] - 0s 35ms/step - loss: 0.0074 - val_loss: 0.0082\n",
            "Epoch 50/200\n",
            "1/1 [==============================] - 0s 59ms/step - loss: 0.0082 - val_loss: 0.0081\n",
            "Epoch 51/200\n",
            "1/1 [==============================] - 0s 36ms/step - loss: 0.0081 - val_loss: 0.0095\n",
            "Epoch 52/200\n",
            "1/1 [==============================] - 0s 38ms/step - loss: 0.0095 - val_loss: 0.0072\n",
            "Epoch 53/200\n",
            "1/1 [==============================] - 0s 36ms/step - loss: 0.0072 - val_loss: 0.0074\n",
            "Epoch 54/200\n",
            "1/1 [==============================] - 0s 54ms/step - loss: 0.0074 - val_loss: 0.0094\n",
            "Epoch 55/200\n",
            "1/1 [==============================] - 0s 36ms/step - loss: 0.0094 - val_loss: 0.0111\n",
            "Epoch 56/200\n",
            "1/1 [==============================] - 0s 37ms/step - loss: 0.0111 - val_loss: 0.0096\n",
            "Epoch 57/200\n",
            "1/1 [==============================] - 0s 44ms/step - loss: 0.0096 - val_loss: 0.0065\n",
            "Epoch 58/200\n",
            "1/1 [==============================] - 0s 37ms/step - loss: 0.0065 - val_loss: 0.0098\n",
            "Epoch 59/200\n",
            "1/1 [==============================] - 0s 34ms/step - loss: 0.0098 - val_loss: 0.0117\n",
            "Epoch 60/200\n",
            "1/1 [==============================] - 0s 39ms/step - loss: 0.0117 - val_loss: 0.0121\n",
            "Epoch 61/200\n",
            "1/1 [==============================] - 0s 36ms/step - loss: 0.0121 - val_loss: 0.0064\n",
            "Epoch 62/200\n",
            "1/1 [==============================] - 0s 37ms/step - loss: 0.0064 - val_loss: 0.0086\n",
            "Epoch 63/200\n",
            "1/1 [==============================] - 0s 42ms/step - loss: 0.0086 - val_loss: 0.0098\n",
            "Epoch 64/200\n",
            "1/1 [==============================] - 0s 35ms/step - loss: 0.0098 - val_loss: 0.0087\n",
            "Epoch 65/200\n",
            "1/1 [==============================] - 0s 35ms/step - loss: 0.0087 - val_loss: 0.0044\n",
            "Epoch 66/200\n",
            "1/1 [==============================] - 0s 35ms/step - loss: 0.0044 - val_loss: 0.0082\n",
            "Epoch 67/200\n",
            "1/1 [==============================] - 0s 34ms/step - loss: 0.0082 - val_loss: 0.0114\n",
            "Epoch 68/200\n",
            "1/1 [==============================] - 0s 36ms/step - loss: 0.0114 - val_loss: 0.0099\n",
            "Epoch 69/200\n",
            "1/1 [==============================] - 0s 35ms/step - loss: 0.0099 - val_loss: 0.0054\n",
            "Epoch 70/200\n",
            "1/1 [==============================] - 0s 38ms/step - loss: 0.0054 - val_loss: 0.0067\n",
            "Epoch 71/200\n",
            "1/1 [==============================] - 0s 49ms/step - loss: 0.0067 - val_loss: 0.0061\n",
            "Epoch 72/200\n",
            "1/1 [==============================] - 0s 36ms/step - loss: 0.0061 - val_loss: 0.0061\n",
            "Epoch 73/200\n",
            "1/1 [==============================] - 0s 37ms/step - loss: 0.0061 - val_loss: 0.0032\n",
            "Epoch 74/200\n",
            "1/1 [==============================] - 0s 46ms/step - loss: 0.0032 - val_loss: 0.0044\n",
            "Epoch 75/200\n",
            "1/1 [==============================] - 0s 36ms/step - loss: 0.0044 - val_loss: 0.0044\n",
            "Epoch 76/200\n",
            "1/1 [==============================] - 0s 36ms/step - loss: 0.0044 - val_loss: 0.0048\n",
            "Epoch 77/200\n",
            "1/1 [==============================] - 0s 35ms/step - loss: 0.0048 - val_loss: 0.0050\n",
            "Epoch 78/200\n",
            "1/1 [==============================] - 0s 38ms/step - loss: 0.0050 - val_loss: 0.0076\n",
            "Epoch 79/200\n",
            "1/1 [==============================] - 0s 34ms/step - loss: 0.0076 - val_loss: 0.0095\n",
            "Epoch 80/200\n",
            "1/1 [==============================] - 0s 47ms/step - loss: 0.0095 - val_loss: 0.0098\n",
            "Epoch 81/200\n",
            "1/1 [==============================] - 0s 36ms/step - loss: 0.0098 - val_loss: 0.0070\n",
            "Epoch 82/200\n",
            "1/1 [==============================] - 0s 40ms/step - loss: 0.0070 - val_loss: 0.0077\n",
            "Epoch 83/200\n",
            "1/1 [==============================] - 0s 39ms/step - loss: 0.0077 - val_loss: 0.0102\n",
            "Epoch 84/200\n",
            "1/1 [==============================] - 0s 48ms/step - loss: 0.0102 - val_loss: 0.0106\n",
            "Epoch 85/200\n",
            "1/1 [==============================] - 0s 41ms/step - loss: 0.0106 - val_loss: 0.0095\n",
            "Epoch 86/200\n",
            "1/1 [==============================] - 0s 41ms/step - loss: 0.0095 - val_loss: 0.0104\n",
            "Epoch 87/200\n",
            "1/1 [==============================] - 0s 41ms/step - loss: 0.0104 - val_loss: 0.0086\n",
            "Epoch 88/200\n",
            "1/1 [==============================] - 0s 46ms/step - loss: 0.0086 - val_loss: 0.0107\n",
            "Epoch 89/200\n",
            "1/1 [==============================] - 0s 37ms/step - loss: 0.0107 - val_loss: 0.0082\n",
            "Epoch 90/200\n",
            "1/1 [==============================] - 0s 35ms/step - loss: 0.0082 - val_loss: 0.0067\n",
            "Epoch 91/200\n",
            "1/1 [==============================] - 0s 56ms/step - loss: 0.0067 - val_loss: 0.0090\n",
            "Epoch 92/200\n",
            "1/1 [==============================] - 0s 36ms/step - loss: 0.0090 - val_loss: 0.0088\n",
            "Epoch 93/200\n",
            "1/1 [==============================] - 0s 34ms/step - loss: 0.0088 - val_loss: 0.0081\n",
            "Epoch 94/200\n",
            "1/1 [==============================] - 0s 44ms/step - loss: 0.0081 - val_loss: 0.0053\n",
            "Epoch 95/200\n",
            "1/1 [==============================] - 0s 34ms/step - loss: 0.0053 - val_loss: 0.0082\n",
            "Epoch 96/200\n",
            "1/1 [==============================] - 0s 37ms/step - loss: 0.0082 - val_loss: 0.0081\n",
            "Epoch 97/200\n",
            "1/1 [==============================] - 0s 37ms/step - loss: 0.0081 - val_loss: 0.0060\n",
            "Epoch 98/200\n",
            "1/1 [==============================] - 0s 35ms/step - loss: 0.0060 - val_loss: 0.0064\n",
            "Epoch 99/200\n",
            "1/1 [==============================] - 0s 36ms/step - loss: 0.0064 - val_loss: 0.0097\n",
            "Epoch 100/200\n",
            "1/1 [==============================] - 0s 39ms/step - loss: 0.0097 - val_loss: 0.0081\n",
            "Epoch 101/200\n",
            "1/1 [==============================] - 0s 35ms/step - loss: 0.0081 - val_loss: 0.0097\n",
            "Epoch 102/200\n",
            "1/1 [==============================] - 0s 36ms/step - loss: 0.0097 - val_loss: 0.0061\n",
            "Epoch 103/200\n",
            "1/1 [==============================] - 0s 46ms/step - loss: 0.0061 - val_loss: 0.0119\n",
            "Epoch 104/200\n",
            "1/1 [==============================] - 0s 37ms/step - loss: 0.0119 - val_loss: 0.0095\n",
            "Epoch 105/200\n",
            "1/1 [==============================] - 0s 40ms/step - loss: 0.0095 - val_loss: 0.0112\n",
            "Epoch 106/200\n",
            "1/1 [==============================] - 0s 42ms/step - loss: 0.0112 - val_loss: 0.0114\n",
            "Epoch 107/200\n",
            "1/1 [==============================] - 0s 37ms/step - loss: 0.0114 - val_loss: 0.0074\n",
            "Epoch 108/200\n",
            "1/1 [==============================] - 0s 39ms/step - loss: 0.0074 - val_loss: 0.0065\n",
            "Epoch 109/200\n",
            "1/1 [==============================] - 0s 39ms/step - loss: 0.0065 - val_loss: 0.0101\n",
            "Epoch 110/200\n",
            "1/1 [==============================] - 0s 39ms/step - loss: 0.0101 - val_loss: 0.0070\n",
            "Epoch 111/200\n",
            "1/1 [==============================] - 0s 36ms/step - loss: 0.0070 - val_loss: 0.0093\n",
            "Epoch 112/200\n",
            "1/1 [==============================] - 0s 36ms/step - loss: 0.0093 - val_loss: 0.0067\n",
            "Epoch 113/200\n",
            "1/1 [==============================] - 0s 35ms/step - loss: 0.0067 - val_loss: 0.0105\n",
            "Epoch 114/200\n",
            "1/1 [==============================] - 0s 40ms/step - loss: 0.0105 - val_loss: 0.0061\n",
            "Epoch 115/200\n",
            "1/1 [==============================] - 0s 40ms/step - loss: 0.0061 - val_loss: 0.0045\n",
            "Epoch 116/200\n",
            "1/1 [==============================] - 0s 40ms/step - loss: 0.0045 - val_loss: 0.0040\n",
            "Epoch 117/200\n",
            "1/1 [==============================] - 0s 37ms/step - loss: 0.0040 - val_loss: 0.0032\n",
            "Epoch 118/200\n",
            "1/1 [==============================] - 0s 61ms/step - loss: 0.0032 - val_loss: 0.0093\n",
            "Epoch 119/200\n",
            "1/1 [==============================] - 0s 35ms/step - loss: 0.0093 - val_loss: 0.0061\n",
            "Epoch 120/200\n",
            "1/1 [==============================] - 0s 35ms/step - loss: 0.0061 - val_loss: 0.0112\n",
            "Epoch 121/200\n",
            "1/1 [==============================] - 0s 37ms/step - loss: 0.0112 - val_loss: 0.0065\n",
            "Epoch 122/200\n",
            "1/1 [==============================] - 0s 36ms/step - loss: 0.0065 - val_loss: 0.0133\n",
            "Epoch 123/200\n",
            "1/1 [==============================] - 0s 40ms/step - loss: 0.0133 - val_loss: 0.0092\n",
            "Epoch 124/200\n",
            "1/1 [==============================] - 0s 35ms/step - loss: 0.0092 - val_loss: 0.0146\n",
            "Epoch 125/200\n",
            "1/1 [==============================] - 0s 38ms/step - loss: 0.0146 - val_loss: 0.0150\n",
            "Epoch 126/200\n",
            "1/1 [==============================] - 0s 35ms/step - loss: 0.0150 - val_loss: 0.0131\n",
            "Epoch 127/200\n",
            "1/1 [==============================] - 0s 40ms/step - loss: 0.0131 - val_loss: 0.0152\n",
            "Epoch 128/200\n",
            "1/1 [==============================] - 0s 37ms/step - loss: 0.0152 - val_loss: 0.0076\n",
            "Epoch 129/200\n",
            "1/1 [==============================] - 0s 41ms/step - loss: 0.0076 - val_loss: 0.0120\n",
            "Epoch 130/200\n",
            "1/1 [==============================] - 0s 34ms/step - loss: 0.0120 - val_loss: 0.0099\n",
            "Epoch 131/200\n",
            "1/1 [==============================] - 0s 40ms/step - loss: 0.0099 - val_loss: 0.0097\n",
            "Epoch 132/200\n",
            "1/1 [==============================] - 0s 36ms/step - loss: 0.0097 - val_loss: 0.0081\n",
            "Epoch 133/200\n",
            "1/1 [==============================] - 0s 54ms/step - loss: 0.0081 - val_loss: 0.0068\n",
            "Epoch 134/200\n",
            "1/1 [==============================] - 0s 37ms/step - loss: 0.0068 - val_loss: 0.0111\n",
            "Epoch 135/200\n",
            "1/1 [==============================] - 0s 36ms/step - loss: 0.0111 - val_loss: 0.0098\n",
            "Epoch 136/200\n",
            "1/1 [==============================] - 0s 38ms/step - loss: 0.0098 - val_loss: 0.0093\n",
            "Epoch 137/200\n",
            "1/1 [==============================] - 0s 38ms/step - loss: 0.0093 - val_loss: 0.0055\n",
            "Epoch 138/200\n",
            "1/1 [==============================] - 0s 37ms/step - loss: 0.0055 - val_loss: 0.0076\n",
            "Epoch 139/200\n",
            "1/1 [==============================] - 0s 36ms/step - loss: 0.0076 - val_loss: 0.0082\n",
            "Epoch 140/200\n",
            "1/1 [==============================] - 0s 38ms/step - loss: 0.0082 - val_loss: 0.0066\n",
            "Epoch 141/200\n",
            "1/1 [==============================] - 0s 40ms/step - loss: 0.0066 - val_loss: 0.0115\n",
            "Epoch 142/200\n",
            "1/1 [==============================] - 0s 41ms/step - loss: 0.0115 - val_loss: 0.0073\n",
            "Epoch 143/200\n",
            "1/1 [==============================] - 0s 37ms/step - loss: 0.0073 - val_loss: 0.0130\n",
            "Epoch 144/200\n",
            "1/1 [==============================] - 0s 38ms/step - loss: 0.0130 - val_loss: 0.0096\n",
            "Epoch 145/200\n",
            "1/1 [==============================] - 0s 36ms/step - loss: 0.0096 - val_loss: 0.0103\n",
            "Epoch 146/200\n",
            "1/1 [==============================] - 0s 39ms/step - loss: 0.0103 - val_loss: 0.0076\n",
            "Epoch 147/200\n",
            "1/1 [==============================] - 0s 38ms/step - loss: 0.0076 - val_loss: 0.0150\n",
            "Epoch 148/200\n",
            "1/1 [==============================] - 0s 35ms/step - loss: 0.0150 - val_loss: 0.0160\n",
            "Epoch 149/200\n",
            "1/1 [==============================] - 0s 41ms/step - loss: 0.0160 - val_loss: 0.0101\n",
            "Epoch 150/200\n",
            "1/1 [==============================] - 0s 39ms/step - loss: 0.0101 - val_loss: 0.0137\n",
            "Epoch 151/200\n",
            "1/1 [==============================] - 0s 35ms/step - loss: 0.0137 - val_loss: 0.0080\n",
            "Epoch 152/200\n",
            "1/1 [==============================] - 0s 41ms/step - loss: 0.0080 - val_loss: 0.0138\n",
            "Epoch 153/200\n",
            "1/1 [==============================] - 0s 41ms/step - loss: 0.0138 - val_loss: 0.0106\n",
            "Epoch 154/200\n",
            "1/1 [==============================] - 0s 38ms/step - loss: 0.0106 - val_loss: 0.0084\n",
            "Epoch 155/200\n",
            "1/1 [==============================] - 0s 45ms/step - loss: 0.0084 - val_loss: 0.0080\n",
            "Epoch 156/200\n",
            "1/1 [==============================] - 0s 39ms/step - loss: 0.0080 - val_loss: 0.0129\n",
            "Epoch 157/200\n",
            "1/1 [==============================] - 0s 36ms/step - loss: 0.0129 - val_loss: 0.0126\n",
            "Epoch 158/200\n",
            "1/1 [==============================] - 0s 36ms/step - loss: 0.0126 - val_loss: 0.0097\n",
            "Epoch 159/200\n",
            "1/1 [==============================] - 0s 41ms/step - loss: 0.0097 - val_loss: 0.0127\n",
            "Epoch 160/200\n",
            "1/1 [==============================] - 0s 45ms/step - loss: 0.0127 - val_loss: 0.0049\n",
            "Epoch 161/200\n",
            "1/1 [==============================] - 0s 40ms/step - loss: 0.0049 - val_loss: 0.0085\n",
            "Epoch 162/200\n",
            "1/1 [==============================] - 0s 38ms/step - loss: 0.0085 - val_loss: 0.0102\n",
            "Epoch 163/200\n",
            "1/1 [==============================] - 0s 37ms/step - loss: 0.0102 - val_loss: 0.0127\n",
            "Epoch 164/200\n",
            "1/1 [==============================] - 0s 37ms/step - loss: 0.0127 - val_loss: 0.0073\n",
            "Epoch 165/200\n",
            "1/1 [==============================] - 0s 43ms/step - loss: 0.0073 - val_loss: 0.0163\n",
            "Epoch 166/200\n",
            "1/1 [==============================] - 0s 44ms/step - loss: 0.0163 - val_loss: 0.0079\n",
            "Epoch 167/200\n",
            "1/1 [==============================] - 0s 54ms/step - loss: 0.0079 - val_loss: 0.0163\n",
            "Epoch 168/200\n",
            "1/1 [==============================] - 0s 43ms/step - loss: 0.0163 - val_loss: 0.0139\n",
            "Epoch 169/200\n",
            "1/1 [==============================] - 0s 35ms/step - loss: 0.0139 - val_loss: 0.0097\n",
            "Epoch 170/200\n",
            "1/1 [==============================] - 0s 43ms/step - loss: 0.0097 - val_loss: 0.0095\n",
            "Epoch 171/200\n",
            "1/1 [==============================] - 0s 41ms/step - loss: 0.0095 - val_loss: 0.0095\n",
            "Epoch 172/200\n",
            "1/1 [==============================] - 0s 37ms/step - loss: 0.0095 - val_loss: 0.0061\n",
            "Epoch 173/200\n",
            "1/1 [==============================] - 0s 36ms/step - loss: 0.0061 - val_loss: 0.0101\n",
            "Epoch 174/200\n",
            "1/1 [==============================] - 0s 36ms/step - loss: 0.0101 - val_loss: 0.0039\n",
            "Epoch 175/200\n",
            "1/1 [==============================] - 0s 37ms/step - loss: 0.0039 - val_loss: 0.0173\n",
            "Epoch 176/200\n",
            "1/1 [==============================] - 0s 37ms/step - loss: 0.0173 - val_loss: 0.0137\n",
            "Epoch 177/200\n",
            "1/1 [==============================] - 0s 38ms/step - loss: 0.0137 - val_loss: 0.0089\n",
            "Epoch 178/200\n",
            "1/1 [==============================] - 0s 36ms/step - loss: 0.0089 - val_loss: 0.0081\n",
            "Epoch 179/200\n",
            "1/1 [==============================] - 0s 45ms/step - loss: 0.0081 - val_loss: 0.0062\n",
            "Epoch 180/200\n",
            "1/1 [==============================] - 0s 41ms/step - loss: 0.0062 - val_loss: 0.0044\n",
            "Epoch 181/200\n",
            "1/1 [==============================] - 0s 41ms/step - loss: 0.0044 - val_loss: 0.0050\n",
            "Epoch 182/200\n",
            "1/1 [==============================] - 0s 41ms/step - loss: 0.0050 - val_loss: 0.0122\n",
            "Epoch 183/200\n",
            "1/1 [==============================] - 0s 40ms/step - loss: 0.0122 - val_loss: 0.0051\n",
            "Epoch 184/200\n",
            "1/1 [==============================] - 0s 40ms/step - loss: 0.0051 - val_loss: 0.0084\n",
            "Epoch 185/200\n",
            "1/1 [==============================] - 0s 41ms/step - loss: 0.0084 - val_loss: 0.0050\n",
            "Epoch 186/200\n",
            "1/1 [==============================] - 0s 39ms/step - loss: 0.0050 - val_loss: 0.0034\n",
            "Epoch 187/200\n",
            "1/1 [==============================] - 0s 41ms/step - loss: 0.0034 - val_loss: 0.0091\n",
            "Epoch 188/200\n",
            "1/1 [==============================] - 0s 38ms/step - loss: 0.0091 - val_loss: 0.0103\n",
            "Epoch 189/200\n",
            "1/1 [==============================] - 0s 37ms/step - loss: 0.0103 - val_loss: 0.0080\n",
            "Epoch 190/200\n",
            "1/1 [==============================] - 0s 47ms/step - loss: 0.0080 - val_loss: 0.0056\n",
            "Epoch 191/200\n",
            "1/1 [==============================] - 0s 37ms/step - loss: 0.0056 - val_loss: 0.0103\n",
            "Epoch 192/200\n",
            "1/1 [==============================] - 0s 34ms/step - loss: 0.0103 - val_loss: 0.0107\n",
            "Epoch 193/200\n",
            "1/1 [==============================] - 0s 41ms/step - loss: 0.0107 - val_loss: 0.0093\n",
            "Epoch 194/200\n",
            "1/1 [==============================] - 0s 42ms/step - loss: 0.0093 - val_loss: 0.0072\n",
            "Epoch 195/200\n",
            "1/1 [==============================] - 0s 42ms/step - loss: 0.0072 - val_loss: 0.0097\n",
            "Epoch 196/200\n",
            "1/1 [==============================] - 0s 36ms/step - loss: 0.0097 - val_loss: 0.0107\n",
            "Epoch 197/200\n",
            "1/1 [==============================] - 0s 39ms/step - loss: 0.0107 - val_loss: 0.0086\n",
            "Epoch 198/200\n",
            "1/1 [==============================] - 0s 35ms/step - loss: 0.0086 - val_loss: 0.0062\n",
            "Epoch 199/200\n",
            "1/1 [==============================] - 0s 39ms/step - loss: 0.0062 - val_loss: 0.0091\n",
            "Epoch 200/200\n",
            "1/1 [==============================] - 0s 37ms/step - loss: 0.0091 - val_loss: 0.0114\n"
          ]
        }
      ]
    },
    {
      "cell_type": "code",
      "source": [
        "model.predict(x.iloc[0:3, :])"
      ],
      "metadata": {
        "colab": {
          "base_uri": "https://localhost:8080/"
        },
        "id": "7djgH9GG6gwC",
        "outputId": "5a3867ec-fa3f-4536-d8bf-5d495b17dc96"
      },
      "execution_count": null,
      "outputs": [
        {
          "output_type": "stream",
          "name": "stdout",
          "text": [
            "1/1 [==============================] - 0s 20ms/step\n"
          ]
        },
        {
          "output_type": "execute_result",
          "data": {
            "text/plain": [
              "array([[-0.00513042],\n",
              "       [ 0.0087631 ],\n",
              "       [ 0.9858109 ]], dtype=float32)"
            ]
          },
          "metadata": {},
          "execution_count": 73
        }
      ]
    },
    {
      "cell_type": "code",
      "source": [
        "y[0:3]"
      ],
      "metadata": {
        "colab": {
          "base_uri": "https://localhost:8080/"
        },
        "id": "w6nPmdTX6g3j",
        "outputId": "b40db276-b643-4f2d-b616-5328b3b16be6"
      },
      "execution_count": null,
      "outputs": [
        {
          "output_type": "execute_result",
          "data": {
            "text/plain": [
              "array([[0],\n",
              "       [0],\n",
              "       [1]])"
            ]
          },
          "metadata": {},
          "execution_count": 74
        }
      ]
    },
    {
      "cell_type": "code",
      "source": [
        "output=model.predict(x)\n",
        "output=np.rint(output)\n"
      ],
      "metadata": {
        "colab": {
          "base_uri": "https://localhost:8080/"
        },
        "id": "FMU7JGAX6hB0",
        "outputId": "925f8c82-5598-4b77-83ae-9b53500a333f"
      },
      "execution_count": null,
      "outputs": [
        {
          "output_type": "stream",
          "name": "stdout",
          "text": [
            "1/1 [==============================] - 0s 33ms/step\n"
          ]
        }
      ]
    },
    {
      "cell_type": "code",
      "source": [
        "print(np.rint((model.predict([[2,1,2,1]]))))"
      ],
      "metadata": {
        "colab": {
          "base_uri": "https://localhost:8080/"
        },
        "id": "946Ez4rw8nhc",
        "outputId": "6905d163-2b1e-4e2d-9885-fe0e65e0f4e2"
      },
      "execution_count": null,
      "outputs": [
        {
          "output_type": "stream",
          "name": "stdout",
          "text": [
            "1/1 [==============================] - 0s 37ms/step\n",
            "[[1.]]\n"
          ]
        }
      ]
    },
    {
      "cell_type": "code",
      "source": [
        "srcc=accuracy_score(y,output)\n",
        "print(srcc)"
      ],
      "metadata": {
        "colab": {
          "base_uri": "https://localhost:8080/"
        },
        "id": "gfeDiHg67v2D",
        "outputId": "1c83cdaa-6490-4a16-c3c8-71df4556faef"
      },
      "execution_count": null,
      "outputs": [
        {
          "output_type": "stream",
          "name": "stdout",
          "text": [
            "1.0\n"
          ]
        }
      ]
    }
  ]
}